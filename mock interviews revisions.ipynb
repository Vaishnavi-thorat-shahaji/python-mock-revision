{
 "cells": [
  {
   "cell_type": "code",
   "execution_count": 1,
   "id": "a55ec3aa",
   "metadata": {},
   "outputs": [],
   "source": [
    "# python is a high programming language \n",
    "# It was devloped by guido van rossum and was relesed in 1991.\n",
    "# python is free and open source langugage.\n",
    "# python is very expressive language means easy to learn and easy to understand.\n",
    "# python is robust langugage and interpreted language.\n",
    "# python is object oriented language\n",
    "# python is used to create web application,game devolpment and desktop applications.\n"
   ]
  },
  {
   "cell_type": "code",
   "execution_count": 3,
   "id": "22a6a1ab",
   "metadata": {},
   "outputs": [
    {
     "name": "stdout",
     "output_type": "stream",
     "text": [
      "lili\n"
     ]
    }
   ],
   "source": [
    "# identifires are known as particular names\n",
    "a = 'lili'\n",
    "print(a)"
   ]
  },
  {
   "cell_type": "code",
   "execution_count": 5,
   "id": "ad0a6b52",
   "metadata": {},
   "outputs": [
    {
     "data": {
      "text/plain": [
       "35"
      ]
     },
     "execution_count": 5,
     "metadata": {},
     "output_type": "execute_result"
    }
   ],
   "source": [
    "# keywords is a module\n",
    "# more than 35 keywords in python\n",
    "import keyword\n",
    "keyword.kwlist\n",
    "len(keyword.kwlist)"
   ]
  },
  {
   "cell_type": "code",
   "execution_count": 27,
   "id": "20f4dc38",
   "metadata": {},
   "outputs": [
    {
     "name": "stdout",
     "output_type": "stream",
     "text": [
      "10\n",
      "<class 'int'>\n",
      "10.5\n",
      "<class 'float'>\n",
      "(10+5j)\n",
      "<class 'complex'>\n",
      "10\n",
      "<class 'str'>\n",
      "(1, 2, 3, 4)\n",
      "<class 'tuple'>\n",
      "[11, 22, 33]\n",
      "<class 'list'>\n",
      "{10}\n",
      "<class 'set'>\n",
      "{10: 10, 10.5: 20}\n",
      "<class 'dict'>\n",
      "True\n",
      "<class 'bool'>\n",
      "<class 'bytes'>\n",
      "{1, 2, 3, 4}\n",
      "<class 'set'>\n",
      "frozenset({1, 2, 3, 4})\n",
      "<class 'frozenset'>\n",
      "range(0, 10)\n",
      "<class 'range'>\n",
      "bytearray(b'\\x01\\x02\\x03')\n",
      "<class 'bytearray'>\n",
      "b'\\x01\\x02\\x03\\x04'\n",
      "<class 'bytes'>\n"
     ]
    }
   ],
   "source": [
    "# data types\n",
    "# the type of value of a variable is known as data types\n",
    "a = 10\n",
    "print(a)\n",
    "print(type(a))\n",
    "b = 10.5\n",
    "print(b)\n",
    "print(type(b))\n",
    "c = 10+5j\n",
    "print(c)\n",
    "print(type(c))\n",
    "d = '10'\n",
    "print(d)\n",
    "print(type(d))\n",
    "e = (1,2,3,4)\n",
    "print(e)\n",
    "print(type(e))\n",
    "f = [11,22,33]\n",
    "print(f)\n",
    "print(type(f))\n",
    "g = {10}\n",
    "print(g)\n",
    "print(type(g))\n",
    "h = {a:10,b:20}\n",
    "print(h)\n",
    "print(type(h))\n",
    "i = True\n",
    "print(i)\n",
    "print(type(i))\n",
    "j = bytes(1)\n",
    "print(type(j))\n",
    "k = {1,2,3,4}\n",
    "print(k)\n",
    "print(type(k))\n",
    "l = frozenset(k)\n",
    "print(l)\n",
    "print(type(l))\n",
    "m = range(10)\n",
    "print(m)\n",
    "print(type(m))\n",
    "n = bytearray([1,2,3])\n",
    "print(n)\n",
    "print(type(n))\n",
    "o = bytes([1,2,3,4])\n",
    "print(o)\n",
    "print(type(o))"
   ]
  },
  {
   "cell_type": "code",
   "execution_count": 30,
   "id": "33812893",
   "metadata": {},
   "outputs": [
    {
     "name": "stdout",
     "output_type": "stream",
     "text": [
      "10\n",
      "<class 'int'>\n",
      "10.0\n",
      "<class 'float'>\n"
     ]
    }
   ],
   "source": [
    "# typecasting\n",
    "# conversion one data type to another data type is called typecasting.\n",
    "a = 10\n",
    "print(a)\n",
    "print(type(a))\n",
    "b = float(a)\n",
    "print(b)\n",
    "print(type(b))"
   ]
  },
  {
   "cell_type": "code",
   "execution_count": 31,
   "id": "a4d51b4d",
   "metadata": {},
   "outputs": [
    {
     "name": "stdout",
     "output_type": "stream",
     "text": [
      "10.5\n",
      "<class 'float'>\n",
      "10\n",
      "<class 'int'>\n"
     ]
    }
   ],
   "source": [
    "a = 10.5\n",
    "print(a)\n",
    "print(type(a))\n",
    "b = int(a)\n",
    "print(b)\n",
    "print(type(b))"
   ]
  },
  {
   "cell_type": "code",
   "execution_count": 32,
   "id": "525ef963",
   "metadata": {},
   "outputs": [
    {
     "name": "stdout",
     "output_type": "stream",
     "text": [
      "10\n",
      "<class 'str'>\n",
      "<class 'int'>\n"
     ]
    }
   ],
   "source": [
    "a = \"10\"\n",
    "print(a)\n",
    "print(type(a))\n",
    "b = int(a)\n",
    "print(type(b))"
   ]
  },
  {
   "cell_type": "code",
   "execution_count": 33,
   "id": "c48c334c",
   "metadata": {},
   "outputs": [
    {
     "name": "stdout",
     "output_type": "stream",
     "text": [
      "10\n",
      "<class 'int'>\n",
      "10\n",
      "<class 'str'>\n"
     ]
    }
   ],
   "source": [
    "a = 10\n",
    "print(a)\n",
    "print(type(a))\n",
    "b = str(a)\n",
    "print(b)\n",
    "print(type(b))"
   ]
  },
  {
   "cell_type": "code",
   "execution_count": 35,
   "id": "81d8d5a1",
   "metadata": {},
   "outputs": [
    {
     "name": "stdout",
     "output_type": "stream",
     "text": [
      "10\n",
      "<class 'str'>\n",
      "10.0\n",
      "<class 'float'>\n"
     ]
    }
   ],
   "source": [
    "a = '10'\n",
    "print(a)\n",
    "print(type(a))\n",
    "b = float(a)\n",
    "print(b)\n",
    "print(type(b))"
   ]
  },
  {
   "cell_type": "code",
   "execution_count": 36,
   "id": "1b2949e6",
   "metadata": {},
   "outputs": [
    {
     "name": "stdout",
     "output_type": "stream",
     "text": [
      "10\n",
      "<class 'int'>\n",
      "(10+0j)\n",
      "<class 'complex'>\n"
     ]
    }
   ],
   "source": [
    "a = 10\n",
    "print(a)\n",
    "print(type(a))\n",
    "b = complex(a)\n",
    "print(b)\n",
    "print(type(b))"
   ]
  },
  {
   "cell_type": "code",
   "execution_count": 38,
   "id": "194719f4",
   "metadata": {},
   "outputs": [
    {
     "name": "stdout",
     "output_type": "stream",
     "text": [
      "10+7j\n",
      "<class 'str'>\n",
      "7.0\n",
      "10.0\n"
     ]
    }
   ],
   "source": [
    "a = \"10+7j\"\n",
    "print(a)\n",
    "print(type(a))\n",
    "b = complex(a)\n",
    "print(b.imag)\n",
    "print(b.real)"
   ]
  },
  {
   "cell_type": "code",
   "execution_count": 39,
   "id": "1116d394",
   "metadata": {},
   "outputs": [
    {
     "name": "stdout",
     "output_type": "stream",
     "text": [
      "(4+5j)\n",
      "5.0\n",
      "4.0\n"
     ]
    }
   ],
   "source": [
    "a = complex(4,5)\n",
    "print(a)\n",
    "print(a.imag)\n",
    "print(a.real)"
   ]
  },
  {
   "cell_type": "code",
   "execution_count": 43,
   "id": "db37c292",
   "metadata": {},
   "outputs": [
    {
     "name": "stdout",
     "output_type": "stream",
     "text": [
      "1.0\n",
      "0.0\n",
      "1\n",
      "0\n",
      "(1+0j)\n",
      "0j\n",
      "True\n",
      "False\n"
     ]
    }
   ],
   "source": [
    "print(float(True))\n",
    "print(float(False))\n",
    "print(int(True))\n",
    "print(int(False))\n",
    "print(complex(True))\n",
    "print(complex(False))\n",
    "print(bool(True))\n",
    "print(bool(False))"
   ]
  },
  {
   "cell_type": "code",
   "execution_count": 44,
   "id": "ed0765c0",
   "metadata": {},
   "outputs": [
    {
     "name": "stdout",
     "output_type": "stream",
     "text": [
      "True\n",
      "<class 'str'>\n"
     ]
    }
   ],
   "source": [
    "var = str(True)\n",
    "print(var)\n",
    "print(type(var))"
   ]
  },
  {
   "cell_type": "code",
   "execution_count": 47,
   "id": "03462f0c",
   "metadata": {},
   "outputs": [
    {
     "name": "stdout",
     "output_type": "stream",
     "text": [
      "True\n",
      "False\n",
      "True\n"
     ]
    }
   ],
   "source": [
    "a = bool(10.5)\n",
    "print(a)\n",
    "b = bool('')\n",
    "print(b)\n",
    "c = bool(10)\n",
    "print(c)"
   ]
  },
  {
   "cell_type": "code",
   "execution_count": 2,
   "id": "7e92b14d",
   "metadata": {},
   "outputs": [
    {
     "name": "stdout",
     "output_type": "stream",
     "text": [
      "hello mini and hello baby girl\n",
      "<class 'str'>\n",
      "hel\n",
      " gi\n",
      "30\n"
     ]
    }
   ],
   "source": [
    "# string\n",
    "# string is a sequence of characters\n",
    "# string is a positive and negative indexes\n",
    "a = 'hello mini and hello baby girl'\n",
    "print(a)\n",
    "print(type(a))\n",
    "print(a[0:3])\n",
    "print(a[-5:-2])\n",
    "a*5\n",
    "print(len(a))"
   ]
  },
  {
   "cell_type": "code",
   "execution_count": 4,
   "id": "f29b84e7",
   "metadata": {},
   "outputs": [
    {
     "name": "stdout",
     "output_type": "stream",
     "text": [
      "1800576437584\n",
      "1800576437936\n",
      "False\n"
     ]
    }
   ],
   "source": [
    "# immutability\n",
    "# immutability means not changeable\n",
    "a = 100\n",
    "b = 111\n",
    "print(id(a))\n",
    "print(id(b))\n",
    "print(a is b)"
   ]
  },
  {
   "cell_type": "code",
   "execution_count": 6,
   "id": "9febdd8b",
   "metadata": {},
   "outputs": [
    {
     "name": "stdout",
     "output_type": "stream",
     "text": [
      "1800654142480\n",
      "1800654142096\n",
      "True\n"
     ]
    }
   ],
   "source": [
    "a = 10.5\n",
    "b = 10.5\n",
    "print(id(a))\n",
    "print(id(b))\n",
    "print(a is not b)"
   ]
  },
  {
   "cell_type": "code",
   "execution_count": 9,
   "id": "1b521925",
   "metadata": {},
   "outputs": [
    {
     "name": "stdout",
     "output_type": "stream",
     "text": [
      "1800576434704\n",
      "1800576434704\n",
      "1800576437680\n",
      "False\n",
      "True\n"
     ]
    }
   ],
   "source": [
    "a = 10\n",
    "b =a\n",
    "c = 103\n",
    "print(id(a))\n",
    "print(id(b))\n",
    "print(id(c))\n",
    "print(c is b)\n",
    "print(a is b)"
   ]
  },
  {
   "cell_type": "code",
   "execution_count": 11,
   "id": "0fdbdbac",
   "metadata": {},
   "outputs": [
    {
     "name": "stdout",
     "output_type": "stream",
     "text": [
      "b'\\x01\\x02\\x03\\x04'\n",
      "1\n",
      "2\n",
      "3\n",
      "4\n"
     ]
    }
   ],
   "source": [
    "# bytes\n",
    "# bytes are stored in value 0 to 256\n",
    "# bytes are immutable\n",
    "# bytes are internal function\n",
    "a = [1,2,3,4]\n",
    "b = bytes(a)\n",
    "print(b)\n",
    "for i in b:\n",
    "    print(i)"
   ]
  },
  {
   "cell_type": "code",
   "execution_count": 12,
   "id": "30a5caf4",
   "metadata": {},
   "outputs": [
    {
     "data": {
      "text/plain": [
       "3"
      ]
     },
     "execution_count": 12,
     "metadata": {},
     "output_type": "execute_result"
    }
   ],
   "source": [
    "b[2]"
   ]
  },
  {
   "cell_type": "code",
   "execution_count": 14,
   "id": "4c202b43",
   "metadata": {},
   "outputs": [
    {
     "name": "stdout",
     "output_type": "stream",
     "text": [
      "b'\\x01\\x02\\x03-'\n",
      "1\n",
      "2\n",
      "3\n",
      "45\n"
     ]
    }
   ],
   "source": [
    "a = bytes([1,2,3,45])\n",
    "print(a)\n",
    "for i in a:\n",
    "    print(i)"
   ]
  },
  {
   "cell_type": "code",
   "execution_count": 19,
   "id": "2440819f",
   "metadata": {},
   "outputs": [
    {
     "name": "stdout",
     "output_type": "stream",
     "text": [
      "bytearray(b'\\x01\\x02\\x03\\x04\\x05')\n",
      "1\n",
      "2\n",
      "3\n",
      "4\n",
      "5\n",
      "bytearray(b'\\x01\\x02\\x03\\x04\\x05')\n",
      "bytearray(b'\\n\\x02\\x03\\x04\\x05')\n",
      "10\n",
      "2\n",
      "3\n",
      "4\n",
      "5\n"
     ]
    }
   ],
   "source": [
    "# bytearray \n",
    "# bytearray stored value 0 to 256\n",
    "#  the bytearray is similar to bytes\n",
    "# bytearray are mutuable\n",
    "a = bytearray([1,2,3,4,5])\n",
    "print(a)\n",
    "for i in a:\n",
    "    print(i)\n",
    "print(a)\n",
    "a[0] = 10\n",
    "print(a)\n",
    "for i in a:\n",
    "    print(i)"
   ]
  },
  {
   "cell_type": "code",
   "execution_count": 41,
   "id": "b8ace239",
   "metadata": {},
   "outputs": [
    {
     "name": "stdout",
     "output_type": "stream",
     "text": [
      "[1, 2, 3, 4, 5, 6, 7, 8]\n",
      "<class 'list'>\n",
      "1\n",
      "[1, 2, 3]\n",
      "[6, 7]\n",
      "None\n",
      "[1, 2, 3, 4, 5, 6, 7, 8, 9]\n",
      "None\n",
      "[1, 2, 3, 4, 5, 6, 7, 8]\n",
      "[1, 2, 3, 4, 5, 6, 7, 8]\n",
      "[1, 2, 3, 4, 5, 6, 7, 8, 10]\n",
      "[1, 2, 3, 4, 5, 6, 7, 8, 10, 11]\n",
      "2\n",
      "4\n",
      "[1, 2, 3, 4, 5, 6, 7, 8, 10]\n",
      "[1, 2, 20, 3, 4, 5, 6, 7, 8, 10]\n",
      "[10, 8, 7, 6, 5, 4, 3, 20, 2, 1]\n",
      "[1, 2, 3, 4, 5, 6, 7, 8, 10, 20]\n",
      "[]\n"
     ]
    }
   ],
   "source": [
    "# list\n",
    "# list can store mutiple value and mutiple item\n",
    "# list create square bracket\n",
    "# list are mutable,chaneable and oredered.\n",
    "a = [1,2,3,4,5,6,7,8]\n",
    "print(a)\n",
    "print(type(a))\n",
    "print(a[0])\n",
    "print(a[0:3])\n",
    "print(a[-3:-1])\n",
    "print(a.append(9))\n",
    "print(a)\n",
    "print(a.remove(9))\n",
    "print(a)\n",
    "b = a.copy()\n",
    "print(b)\n",
    "b.extend([10])\n",
    "print(b)\n",
    "b.extend([11])\n",
    "print(b)\n",
    "print(b.index(3))\n",
    "print(b.index(5))\n",
    "b.pop()\n",
    "print(b)\n",
    "b.insert(2,20)\n",
    "print(b)\n",
    "b.reverse()\n",
    "print(b)\n",
    "b.sort(reverse= False)\n",
    "print(b)\n",
    "b.clear()\n",
    "print(b)"
   ]
  },
  {
   "cell_type": "code",
   "execution_count": 47,
   "id": "5f9df6e9",
   "metadata": {},
   "outputs": [
    {
     "name": "stdout",
     "output_type": "stream",
     "text": [
      "(1, 2, 3, 4, 5, 6, 7, 8, 9)\n",
      "<class 'tuple'>\n"
     ]
    },
    {
     "data": {
      "text/plain": [
       "9"
      ]
     },
     "execution_count": 47,
     "metadata": {},
     "output_type": "execute_result"
    }
   ],
   "source": [
    "# tuple \n",
    "# tuple is ordered and unchangeable\n",
    "# tuple is immutable\n",
    "# tuple is create paranthesis\n",
    "# tuple are not growable\n",
    "# tuple are not modify\n",
    "tup = (1,2,3,4,5,6,7,8,9)\n",
    "print(tup)\n",
    "print(type(tup))\n",
    "tup[0]\n",
    "tup[0:4]\n",
    "len(tup)"
   ]
  },
  {
   "cell_type": "code",
   "execution_count": 59,
   "id": "c373843e",
   "metadata": {},
   "outputs": [
    {
     "name": "stdout",
     "output_type": "stream",
     "text": [
      "('a', 'b', 'c', 'd', 'e')\n",
      "<class 'tuple'>\n",
      "['a', 'b', 'c', 'd', 'e']\n",
      "['a', 'b', 'c', 'd', 'e', 'f']\n",
      "['a', 'b', 'c', 'd', 'e']\n",
      "['a', 'b', 'c', 'd', 'e', 'g']\n",
      "1\n",
      "['a', 'b', 'c', 'd', 'e']\n",
      "['e', 'd', 'c', 'b', 'a']\n"
     ]
    }
   ],
   "source": [
    "tup = ('a','b','c','d','e')\n",
    "print(tup)\n",
    "print(type(tup))\n",
    "l = list(tup)\n",
    "print(l)\n",
    "l.append('f')\n",
    "print(l)\n",
    "l.remove('f')\n",
    "print(l)\n",
    "l.extend(['g'])\n",
    "print(l)\n",
    "print(l.index('b'))\n",
    "l.pop()\n",
    "print(l)\n",
    "l.reverse()\n",
    "print(l)\n",
    "l.sort(reverse = False)\n",
    "l.clear()"
   ]
  },
  {
   "cell_type": "code",
   "execution_count": 61,
   "id": "325d50d9",
   "metadata": {},
   "outputs": [
    {
     "name": "stdout",
     "output_type": "stream",
     "text": [
      "{1, 2, 3, 4, 5, 6, 7, 8, 9}\n",
      "<class 'set'>\n"
     ]
    },
    {
     "data": {
      "text/plain": [
       "9"
      ]
     },
     "execution_count": 61,
     "metadata": {},
     "output_type": "execute_result"
    }
   ],
   "source": [
    "# set \n",
    "# set is unordered colletions of elements\n",
    "# set is create curly brases\n",
    "# set is mutable\n",
    "# set is  growable\n",
    "# set is modify\n",
    "# index concept are not applicable\n",
    "a = {1,2,3,4,5,6,7,8,9}\n",
    "print(a)\n",
    "print(type(a))\n",
    "len(a)\n"
   ]
  },
  {
   "cell_type": "code",
   "execution_count": 69,
   "id": "0ce25978",
   "metadata": {},
   "outputs": [
    {
     "name": "stdout",
     "output_type": "stream",
     "text": [
      "{'f', 'd', 'g', 'a', 'b', 'c', 'e'}\n",
      "<class 'set'>\n",
      "{'f', 'd', 'g', 'a', 'b', 'c', 'e'}\n",
      "{'f', 'd', 'g', 'a', 'b', 'c', 'e'}\n",
      "{'f', 'd', 'g', 'a', 'b', 'c', 'e', 'j'}\n",
      "{'f', 'd', 'g', 'a', 'b', 'e', 'j'}\n",
      "{'d', 'g', 'a', 'b', 'e', 'j'}\n",
      "{'d', 'g', 'a', 'b', 'j'}\n"
     ]
    }
   ],
   "source": [
    "a = set(['a','b','c','d','e','f','g'])\n",
    "print(a)\n",
    "print(type(a))\n",
    "print(a)\n",
    "'a' in a\n",
    "print(a)\n",
    "a.add('j')\n",
    "print(a)\n",
    "a.remove('c')\n",
    "print(a)\n",
    "a.pop()\n",
    "print(a)\n",
    "a.discard('e')\n",
    "print(a)\n"
   ]
  },
  {
   "cell_type": "code",
   "execution_count": 73,
   "id": "6fbbb61d",
   "metadata": {},
   "outputs": [
    {
     "name": "stdout",
     "output_type": "stream",
     "text": [
      "{1, 2, 3, 4}\n",
      "{2, 3, 4, 5}\n",
      "{1, 2, 3, 4, 5}\n",
      "{2, 3, 4}\n"
     ]
    }
   ],
   "source": [
    "a = {1,2,3,4}\n",
    "b = {2,3,4,5}\n",
    "print(a)\n",
    "print(b)\n",
    "c = a.union(b)\n",
    "print(c)\n",
    "c = a.intersection(b)\n",
    "print(c)"
   ]
  },
  {
   "cell_type": "code",
   "execution_count": 85,
   "id": "d1baecc9",
   "metadata": {},
   "outputs": [
    {
     "name": "stdout",
     "output_type": "stream",
     "text": [
      "{'a': 10, 'b': 20, 'c': 30, 'd': 40}\n",
      "10\n",
      "20\n",
      "dict_values([10, 20, 30, 40])\n",
      "dict_keys(['a', 'b', 'c', 'd'])\n",
      "{'a': 10, 'b': 20, 'c': 30, 'd': 40}\n",
      "{'a': 10, 'b': 20, 'c': 30, 'd': 40, 'e': 50}\n",
      "dict_items([('a', 10), ('b', 20), ('c', 30), ('d', 40), ('e', 50)])\n"
     ]
    }
   ],
   "source": [
    "# dictionary\n",
    "# dictinary are immutable\n",
    "# dictionary stored key-value pair\n",
    "# dictionary are chanheable unoredered and does not duplicates\n",
    "a ={'a':10,\n",
    "    'b':20,\n",
    "    'c':30,\n",
    "    'd': 40}\n",
    "print(a)\n",
    "print(a['a'])\n",
    "print(a['b'])\n",
    "print(a.values())\n",
    "print(a.keys())\n",
    "print(a)\n",
    "a['e']= 50\n",
    "print(a)\n",
    "print(a.items())"
   ]
  },
  {
   "cell_type": "code",
   "execution_count": 90,
   "id": "777f5a7c",
   "metadata": {},
   "outputs": [
    {
     "name": "stdout",
     "output_type": "stream",
     "text": [
      "{1, 2, 3, 4, 5, 6}\n",
      "<class 'set'>\n",
      "frozenset({1, 2, 3, 4, 5, 6})\n"
     ]
    }
   ],
   "source": [
    "# frozenset \n",
    "# frozenset is immutable\n",
    "# frozenset is keywords\n",
    "a = {1,2,3,4,5,6}\n",
    "print(a)\n",
    "print(type(a))\n",
    "b = frozenset(a)\n",
    "print(b)"
   ]
  },
  {
   "cell_type": "code",
   "execution_count": 91,
   "id": "6d964e21",
   "metadata": {},
   "outputs": [],
   "source": [
    "# operators means these are the symbol\n",
    "# operators performs some opertions\n",
    "# operands can be values.\n",
    "# operands can be variable.\n",
    "\n"
   ]
  },
  {
   "cell_type": "code",
   "execution_count": 98,
   "id": "71d805cd",
   "metadata": {},
   "outputs": [
    {
     "name": "stdout",
     "output_type": "stream",
     "text": [
      "30\n",
      "-10\n",
      "200\n",
      "5.0\n",
      "6624737266949237011120128\n",
      "3\n",
      "0\n"
     ]
    }
   ],
   "source": [
    "# arithmetic opertors\n",
    "a = 10\n",
    "b = 20\n",
    "c = a+b\n",
    "print(c)\n",
    "a = 20\n",
    "b = 30\n",
    "c = a-b\n",
    "print(c)\n",
    "a = 10\n",
    "b = 20\n",
    "c = a*b\n",
    "print(c)\n",
    "a = 100\n",
    "b = 20\n",
    "c = a/b\n",
    "print(c)\n",
    "a = 12\n",
    "b = 23\n",
    "c = a**b\n",
    "print(c)\n",
    "a= 123\n",
    "b = 34\n",
    "c = a//b\n",
    "print(c)\n",
    "a = 100\n",
    "b = 20\n",
    "c = a%b\n",
    "print(c)"
   ]
  },
  {
   "cell_type": "code",
   "execution_count": 106,
   "id": "ef0a0f42",
   "metadata": {},
   "outputs": [
    {
     "name": "stdout",
     "output_type": "stream",
     "text": [
      "20\n",
      "19\n",
      "190\n",
      "19.0\n",
      "6131066257801.0\n",
      "613106625780.0\n",
      "0.0\n"
     ]
    }
   ],
   "source": [
    "# assignment opertors\n",
    "# assignment opertors are used to assigning values to the operands.\n",
    "a = 10\n",
    "a +=10\n",
    "print(a)\n",
    "a -=1\n",
    "print(a)\n",
    "a *=10\n",
    "print(a)\n",
    "a /=10\n",
    "print(a)\n",
    "a **=10\n",
    "print(a)\n",
    "a //=10\n",
    "print(a)\n",
    "a %=10\n",
    "print(a)"
   ]
  },
  {
   "cell_type": "code",
   "execution_count": 116,
   "id": "9ed5cf42",
   "metadata": {},
   "outputs": [
    {
     "name": "stdout",
     "output_type": "stream",
     "text": [
      "False\n",
      "True\n",
      "True\n",
      "False\n",
      "True\n",
      "True\n"
     ]
    }
   ],
   "source": [
    "# comparison opertors\n",
    "# comparison opertors are compare the indentifers ,compare the value\n",
    "a = 10\n",
    "b = 20\n",
    "c = 30\n",
    "print(a==b)\n",
    "print(b!=c)\n",
    "print(c>b)\n",
    "print(b<a)\n",
    "print(c>=b)\n",
    "print(b<=b)"
   ]
  },
  {
   "cell_type": "code",
   "execution_count": 117,
   "id": "5139897e",
   "metadata": {},
   "outputs": [],
   "source": [
    "# logical opertors\n",
    "# these are three operotrs or,not,and\n",
    "# AND opertors - return true if both condition are true\n",
    "# OR opertors - return true if one condtion is true.\n",
    "# NOT opertors - return the result if the result is true\n"
   ]
  },
  {
   "cell_type": "code",
   "execution_count": 121,
   "id": "68bd3d73",
   "metadata": {},
   "outputs": [
    {
     "name": "stdout",
     "output_type": "stream",
     "text": [
      "True\n",
      "True\n",
      "True\n"
     ]
    }
   ],
   "source": [
    "a = 5\n",
    "print(a<10)and(a<5)\n",
    "print(a>2)or(a<50)\n",
    "print(not(a<5))"
   ]
  },
  {
   "cell_type": "code",
   "execution_count": 122,
   "id": "2b1d3265",
   "metadata": {},
   "outputs": [],
   "source": [
    "# identify opertors\n",
    "# in identify opertors are used to compare the memory location of two objects\n",
    "# is - return true if both variables are the same object\n",
    "# is not - return true if both variables are not same object\n"
   ]
  },
  {
   "cell_type": "code",
   "execution_count": 123,
   "id": "bbc31350",
   "metadata": {},
   "outputs": [
    {
     "name": "stdout",
     "output_type": "stream",
     "text": [
      "1800576434704\n",
      "1800576435024\n"
     ]
    },
    {
     "data": {
      "text/plain": [
       "False"
      ]
     },
     "execution_count": 123,
     "metadata": {},
     "output_type": "execute_result"
    }
   ],
   "source": [
    "a = 10\n",
    "b = 20\n",
    "print(id(a))\n",
    "print(id(b))\n",
    "a is b"
   ]
  },
  {
   "cell_type": "code",
   "execution_count": 124,
   "id": "60d24018",
   "metadata": {},
   "outputs": [
    {
     "name": "stdout",
     "output_type": "stream",
     "text": [
      "1800576434704\n",
      "1800576435024\n"
     ]
    },
    {
     "data": {
      "text/plain": [
       "True"
      ]
     },
     "execution_count": 124,
     "metadata": {},
     "output_type": "execute_result"
    }
   ],
   "source": [
    "a = 10\n",
    "b = 20\n",
    "print(id(a))\n",
    "print(id(b))\n",
    "b is not a"
   ]
  },
  {
   "cell_type": "code",
   "execution_count": 125,
   "id": "fb00b275",
   "metadata": {},
   "outputs": [],
   "source": [
    "# membership opertors\n",
    "# in- return true if a sequnce with specified value is present in the object\n",
    "# not in - return true if a sequnce with specified value is not present in the object\n"
   ]
  },
  {
   "cell_type": "code",
   "execution_count": 129,
   "id": "f203a2ff",
   "metadata": {},
   "outputs": [
    {
     "name": "stdout",
     "output_type": "stream",
     "text": [
      "True\n",
      "False\n",
      "True\n"
     ]
    }
   ],
   "source": [
    "a = (1,2,3,4,5,6)\n",
    "print(1 in a)\n",
    "print(2 not in a)\n",
    "b = {11,22,33,44}\n",
    "print(22 in b)"
   ]
  },
  {
   "cell_type": "code",
   "execution_count": 130,
   "id": "f90dee37",
   "metadata": {},
   "outputs": [],
   "source": [
    "# bitwise opertors\n",
    "# bitwise opertors are the opertors which are going to operat of bits"
   ]
  },
  {
   "cell_type": "code",
   "execution_count": 134,
   "id": "207a8876",
   "metadata": {},
   "outputs": [
    {
     "name": "stdout",
     "output_type": "stream",
     "text": [
      "3\n",
      "351\n",
      "53\n",
      "-13\n"
     ]
    }
   ],
   "source": [
    "a = 3\n",
    "b = 3\n",
    "z =a&b\n",
    "print(z)\n",
    "a = 23\n",
    "b = 345\n",
    "c = a|b\n",
    "print(c)\n",
    "a = 23\n",
    "b = 34\n",
    "c = a^b\n",
    "print(c)\n",
    "a = 12\n",
    "print(~(a))"
   ]
  },
  {
   "cell_type": "code",
   "execution_count": 135,
   "id": "6a0f7012",
   "metadata": {},
   "outputs": [
    {
     "name": "stdout",
     "output_type": "stream",
     "text": [
      "384\n"
     ]
    }
   ],
   "source": [
    "a = 12\n",
    "b =a<<5\n",
    "print(b)\n"
   ]
  },
  {
   "cell_type": "code",
   "execution_count": 136,
   "id": "d37cfd2e",
   "metadata": {},
   "outputs": [
    {
     "name": "stdout",
     "output_type": "stream",
     "text": [
      "1\n"
     ]
    }
   ],
   "source": [
    "a = 123\n",
    "b = a>>6\n",
    "print(b)"
   ]
  },
  {
   "cell_type": "code",
   "execution_count": 137,
   "id": "18615484",
   "metadata": {},
   "outputs": [],
   "source": [
    "# conditional statements \n",
    "# condiional statements in python are used to excute a specific block of code based on the truth value of a condition\n",
    "# if: Checks if a condition is true.\n",
    "# elif (short for \"else if\"): Adds more conditions to check if the first one is false.\n",
    "# else: Runs only if the condition is false.\n"
   ]
  },
  {
   "cell_type": "code",
   "execution_count": 139,
   "id": "e07d4f91",
   "metadata": {},
   "outputs": [
    {
     "name": "stdout",
     "output_type": "stream",
     "text": [
      "false\n"
     ]
    }
   ],
   "source": [
    "a = 10\n",
    "if a<5:\n",
    "    print('true')\n",
    "else:\n",
    "    print('false')\n",
    "    "
   ]
  },
  {
   "cell_type": "code",
   "execution_count": 140,
   "id": "0f66b159",
   "metadata": {},
   "outputs": [
    {
     "name": "stdout",
     "output_type": "stream",
     "text": [
      "You are an adult\n"
     ]
    }
   ],
   "source": [
    "age = 20\n",
    "\n",
    "if age >= 18:\n",
    "    print(\"You are an adult\")\n",
    "else:\n",
    "    print(\"You are not an adult\")"
   ]
  },
  {
   "cell_type": "code",
   "execution_count": 141,
   "id": "a2bd4bf4",
   "metadata": {},
   "outputs": [
    {
     "name": "stdout",
     "output_type": "stream",
     "text": [
      "no\n"
     ]
    }
   ],
   "source": [
    "a = 10\n",
    "b = 20\n",
    "if a>b:\n",
    "    print(\"yes\")\n",
    "elif a==b:\n",
    "    print('right')\n",
    "else:\n",
    "    print('no')"
   ]
  },
  {
   "cell_type": "code",
   "execution_count": 142,
   "id": "bdb713a1",
   "metadata": {},
   "outputs": [],
   "source": [
    "a = 10\n",
    "b = 20\n",
    "if a==b: print('yes')"
   ]
  },
  {
   "cell_type": "code",
   "execution_count": 145,
   "id": "98647e1b",
   "metadata": {},
   "outputs": [
    {
     "name": "stdout",
     "output_type": "stream",
     "text": [
      "yes\n"
     ]
    }
   ],
   "source": [
    "a = 10\n",
    "b = 20\n",
    "print('no') if a==b else  print('yes') "
   ]
  },
  {
   "cell_type": "code",
   "execution_count": 146,
   "id": "6707dc99",
   "metadata": {},
   "outputs": [
    {
     "name": "stdout",
     "output_type": "stream",
     "text": [
      "no\n"
     ]
    }
   ],
   "source": [
    "a = 10\n",
    "b = 10\n",
    "print('yes') if a!=b else print('no')"
   ]
  },
  {
   "cell_type": "code",
   "execution_count": 149,
   "id": "5197f087",
   "metadata": {},
   "outputs": [],
   "source": [
    "a = 10\n",
    "b = 20\n",
    "if a<b:\n",
    "    pass\n",
    "else:\n",
    "    print('yes')"
   ]
  },
  {
   "cell_type": "code",
   "execution_count": 150,
   "id": "35d48e23",
   "metadata": {},
   "outputs": [],
   "source": [
    "# looping statement\n",
    "# looping statement are fundamentals in python for repitetive execution of code.\n",
    "# while loop - while loop is looping statement \n",
    "# while loop are execute the group of statements\n",
    "# break statements - break statement is used to control the sequence of the loop.\n",
    "# break statements is used to break execution of the loop\n",
    "# continue statements - continue statements is used to skip the current process of the loop\n",
    "# For loop - for loop is looping statement\n",
    "# for loop is loop or itertes over a list,tuple,set,dict and string.\n",
    "# renge function is use returns a sequence of numbers.\n",
    "# pass statement is harmless, non executing statement that helps with code structures and organziation "
   ]
  },
  {
   "cell_type": "code",
   "execution_count": 154,
   "id": "b163adbd",
   "metadata": {},
   "outputs": [
    {
     "name": "stdout",
     "output_type": "stream",
     "text": [
      "10\n",
      "11\n",
      "12\n",
      "13\n",
      "14\n",
      "15\n",
      "16\n",
      "17\n",
      "18\n",
      "19\n",
      "20\n",
      "21\n",
      "22\n",
      "23\n",
      "24\n",
      "25\n",
      "26\n",
      "27\n",
      "28\n",
      "29\n",
      "30\n",
      "31\n",
      "32\n",
      "33\n",
      "34\n",
      "35\n",
      "36\n",
      "37\n",
      "38\n",
      "39\n",
      "40\n",
      "41\n",
      "42\n",
      "43\n",
      "44\n",
      "45\n",
      "46\n",
      "47\n",
      "48\n",
      "49\n",
      "50\n",
      "51\n",
      "52\n",
      "53\n",
      "54\n",
      "55\n",
      "56\n",
      "57\n",
      "58\n",
      "59\n",
      "60\n",
      "61\n",
      "62\n",
      "63\n",
      "64\n",
      "65\n",
      "66\n",
      "67\n",
      "68\n",
      "69\n",
      "70\n",
      "71\n",
      "72\n",
      "73\n",
      "74\n",
      "75\n",
      "76\n",
      "77\n",
      "78\n",
      "79\n",
      "80\n",
      "81\n",
      "82\n",
      "83\n",
      "84\n",
      "85\n",
      "86\n",
      "87\n",
      "88\n",
      "89\n",
      "90\n",
      "91\n",
      "92\n",
      "93\n",
      "94\n",
      "95\n",
      "96\n",
      "97\n",
      "98\n",
      "99\n",
      "100\n"
     ]
    }
   ],
   "source": [
    "a = 10\n",
    "while a<=100:\n",
    "    print(a)\n",
    "    a = a+1"
   ]
  },
  {
   "cell_type": "code",
   "execution_count": 1,
   "id": "e7141b0a",
   "metadata": {},
   "outputs": [
    {
     "name": "stdout",
     "output_type": "stream",
     "text": [
      "10\n",
      "9\n",
      "8\n",
      "7\n",
      "6\n",
      "5\n",
      "4\n",
      "3\n",
      "2\n"
     ]
    }
   ],
   "source": [
    "a = 10\n",
    "while a>1:\n",
    "    print(a)\n",
    "    a=a-1"
   ]
  },
  {
   "cell_type": "code",
   "execution_count": 2,
   "id": "37b231fc",
   "metadata": {},
   "outputs": [
    {
     "name": "stdout",
     "output_type": "stream",
     "text": [
      "10\n",
      "9\n",
      "8\n",
      "7\n",
      "6\n",
      "5\n"
     ]
    }
   ],
   "source": [
    "a = 10\n",
    "while a>1:\n",
    "    print(a)\n",
    "    if a==5:\n",
    "        break\n",
    "    a = a-1    "
   ]
  },
  {
   "cell_type": "code",
   "execution_count": 1,
   "id": "205a4aa1",
   "metadata": {},
   "outputs": [
    {
     "name": "stdout",
     "output_type": "stream",
     "text": [
      "1\n",
      "2\n",
      "3\n",
      "4\n",
      "6\n",
      "7\n",
      "8\n",
      "9\n"
     ]
    }
   ],
   "source": [
    "a =1\n",
    "while a<10:\n",
    "    if a==5:\n",
    "        a=a+1\n",
    "        continue\n",
    "    print(a)\n",
    "    a = a+1"
   ]
  },
  {
   "cell_type": "code",
   "execution_count": 2,
   "id": "9bf9dadd",
   "metadata": {},
   "outputs": [
    {
     "name": "stdout",
     "output_type": "stream",
     "text": [
      "0\n",
      "1\n",
      "2\n",
      "3\n",
      "4\n",
      "6\n",
      "7\n",
      "8\n",
      "9\n"
     ]
    }
   ],
   "source": [
    "a = 0\n",
    "while a<10:\n",
    "    if a==5:\n",
    "        a = a+1\n",
    "        continue\n",
    "    print(a)\n",
    "    a = a+1\n",
    "        "
   ]
  },
  {
   "cell_type": "code",
   "execution_count": 3,
   "id": "aa8ded0b",
   "metadata": {},
   "outputs": [
    {
     "name": "stdout",
     "output_type": "stream",
     "text": [
      "0\n",
      "1\n",
      "2\n",
      "3\n",
      "4\n",
      "5\n",
      "6\n",
      "8\n",
      "9\n"
     ]
    }
   ],
   "source": [
    "a = 0\n",
    "while a<10:\n",
    "    if a==7:\n",
    "        a = a+1\n",
    "        continue\n",
    "    print(a)\n",
    "    a = a+1"
   ]
  },
  {
   "cell_type": "code",
   "execution_count": 5,
   "id": "54e9435c",
   "metadata": {},
   "outputs": [
    {
     "name": "stdout",
     "output_type": "stream",
     "text": [
      "0\n",
      "1\n",
      "2\n",
      "3\n",
      "4\n",
      "5\n",
      "6\n",
      "7\n",
      "8\n",
      "yes\n"
     ]
    }
   ],
   "source": [
    "a = 0\n",
    "while a<10:\n",
    "    if a==9:\n",
    "        a = a+1\n",
    "        continue\n",
    "    print(a)\n",
    "    a = a+1\n",
    "else:\n",
    "    print('yes')"
   ]
  },
  {
   "cell_type": "code",
   "execution_count": 2,
   "id": "6101b0b6",
   "metadata": {},
   "outputs": [
    {
     "name": "stdout",
     "output_type": "stream",
     "text": [
      "[1, 2, 3, 4, 5, 6]\n",
      "1\n",
      "2\n",
      "3\n",
      "4\n",
      "5\n",
      "6\n"
     ]
    }
   ],
   "source": [
    "a = [1,2,3,4,5,6]\n",
    "print(a)\n",
    "b = 0\n",
    "while b<len(a):\n",
    "    print(a[b])\n",
    "    b =b+1"
   ]
  },
  {
   "cell_type": "code",
   "execution_count": 3,
   "id": "873468a7",
   "metadata": {},
   "outputs": [
    {
     "name": "stdout",
     "output_type": "stream",
     "text": [
      "(11, 22, 33, 44)\n",
      "22\n",
      "33\n",
      "44\n"
     ]
    }
   ],
   "source": [
    "a = (11,22,33,44)\n",
    "print(a)\n",
    "b = 1\n",
    "while b<len(a):\n",
    "    print(a[b])\n",
    "    b = b+1"
   ]
  },
  {
   "cell_type": "code",
   "execution_count": 5,
   "id": "7af4f139",
   "metadata": {},
   "outputs": [
    {
     "name": "stdout",
     "output_type": "stream",
     "text": [
      "[1, 2, 3, 4, 5, 6, 7, 8]\n",
      "1\n",
      "2\n",
      "3\n",
      "4\n",
      "5\n",
      "6\n",
      "7\n",
      "8\n",
      "yes\n"
     ]
    }
   ],
   "source": [
    "a = [1,2,3,4,5,6,7,8]\n",
    "print(a)\n",
    "for i in a:\n",
    "    print(i)\n",
    "else:\n",
    "    print('yes')"
   ]
  },
  {
   "cell_type": "code",
   "execution_count": 6,
   "id": "a3d24ae8",
   "metadata": {},
   "outputs": [
    {
     "name": "stdout",
     "output_type": "stream",
     "text": [
      "(11, 22, 33, 44, 55, 66)\n",
      "11\n"
     ]
    }
   ],
   "source": [
    "a = (11,22,33,44,55,66)\n",
    "print(a)\n",
    "for i in a:\n",
    "    if i == 22:\n",
    "        break\n",
    "    print(i)\n",
    "    "
   ]
  },
  {
   "cell_type": "code",
   "execution_count": 7,
   "id": "4cccf8f0",
   "metadata": {},
   "outputs": [
    {
     "name": "stdout",
     "output_type": "stream",
     "text": [
      "('a', 'b', 'c', 'd', 'e')\n",
      "a\n",
      "b\n",
      "d\n",
      "e\n"
     ]
    }
   ],
   "source": [
    "a = ('a','b','c','d','e')\n",
    "print(a)\n",
    "for i in a:\n",
    "    if i == 'c':\n",
    "        continue\n",
    "    print(i)    "
   ]
  },
  {
   "cell_type": "code",
   "execution_count": 13,
   "id": "4f4fb555",
   "metadata": {},
   "outputs": [
    {
     "name": "stdout",
     "output_type": "stream",
     "text": [
      "{'a': 10, 'b': 20, 'c': 30, 'd': 40}\n",
      "a\n",
      "b\n",
      "c\n",
      "d\n"
     ]
    }
   ],
   "source": [
    "a = {'a':10,\n",
    "     'b':20,\n",
    "     'c':30,\n",
    "     'd':40}\n",
    "print(a)\n",
    "for i in a:\n",
    "    print(i)\n"
   ]
  },
  {
   "cell_type": "code",
   "execution_count": 21,
   "id": "3905d8c5",
   "metadata": {},
   "outputs": [
    {
     "name": "stdout",
     "output_type": "stream",
     "text": [
      "{'name': 'tes', 'sub': 'cs', 'job': 'data'}\n",
      "name\n",
      "sub\n",
      "job\n",
      "value\n",
      "tes\n",
      "cs\n",
      "data\n",
      "name\n",
      "sub\n",
      "job\n",
      "tes\n",
      "cs\n",
      "data\n",
      "name : tes\n",
      "sub : cs\n",
      "job : data\n"
     ]
    }
   ],
   "source": [
    "a = {\n",
    "    'name': 'tes',\n",
    "    'sub': 'cs',\n",
    "    'job': 'data'\n",
    "}\n",
    "print(a)\n",
    "for i in a:\n",
    "    print(i)\n",
    "print('value')\n",
    "for j in a:\n",
    "    print(a[j])\n",
    "for c in a.keys():\n",
    "    print(c)\n",
    "for d in a.values():\n",
    "    print(d)\n",
    "for c,d in a.items():\n",
    "    print(c,\":\", d)"
   ]
  },
  {
   "cell_type": "code",
   "execution_count": 22,
   "id": "654c6b65",
   "metadata": {},
   "outputs": [
    {
     "name": "stdout",
     "output_type": "stream",
     "text": [
      "0\n",
      "1\n",
      "2\n",
      "3\n",
      "4\n"
     ]
    }
   ],
   "source": [
    "for i in range(5):\n",
    "    print(i)"
   ]
  },
  {
   "cell_type": "code",
   "execution_count": 23,
   "id": "9383280c",
   "metadata": {},
   "outputs": [
    {
     "name": "stdout",
     "output_type": "stream",
     "text": [
      "1\n",
      "6\n"
     ]
    }
   ],
   "source": [
    "for i in range(1,10,5):\n",
    "    print(i)"
   ]
  },
  {
   "cell_type": "code",
   "execution_count": 25,
   "id": "0ed263f7",
   "metadata": {},
   "outputs": [
    {
     "name": "stdout",
     "output_type": "stream",
     "text": [
      "1\n",
      "11\n",
      "21\n",
      "31\n",
      "41\n",
      "yes\n"
     ]
    }
   ],
   "source": [
    "for i in range(1,50,10):\n",
    "    print(i)\n",
    "else:\n",
    "    print('yes')"
   ]
  },
  {
   "cell_type": "code",
   "execution_count": 26,
   "id": "18270f3f",
   "metadata": {},
   "outputs": [
    {
     "name": "stdout",
     "output_type": "stream",
     "text": [
      "enter the number120\n",
      "enter the number34\n",
      "154\n"
     ]
    }
   ],
   "source": [
    "a = int(input('enter the number'))\n",
    "b = int(input('enter the number'))\n",
    "c = a+b\n",
    "print(c)"
   ]
  },
  {
   "cell_type": "code",
   "execution_count": 27,
   "id": "78dff903",
   "metadata": {},
   "outputs": [],
   "source": [
    "# function\n",
    "# function is complate particular task\n",
    "# function is a block of code which perform particular task"
   ]
  },
  {
   "cell_type": "code",
   "execution_count": 28,
   "id": "80b730bd",
   "metadata": {},
   "outputs": [
    {
     "name": "stdout",
     "output_type": "stream",
     "text": [
      "yes\n"
     ]
    }
   ],
   "source": [
    "def display():\n",
    "    print('yes')\n",
    "display()    "
   ]
  },
  {
   "cell_type": "code",
   "execution_count": 29,
   "id": "9f98ddcd",
   "metadata": {},
   "outputs": [
    {
     "name": "stdout",
     "output_type": "stream",
     "text": [
      "no\n",
      "yes\n",
      "hii\n"
     ]
    }
   ],
   "source": [
    "def abc():\n",
    "    print('hello')\n",
    "print('no')\n",
    "display()\n",
    "print('hii')"
   ]
  },
  {
   "cell_type": "code",
   "execution_count": 31,
   "id": "3c0f5d1b",
   "metadata": {},
   "outputs": [
    {
     "name": "stdout",
     "output_type": "stream",
     "text": [
      "100\n"
     ]
    }
   ],
   "source": [
    "def display(a):\n",
    "    print(a)\n",
    "value = 100\n",
    "display(value)"
   ]
  },
  {
   "cell_type": "code",
   "execution_count": 34,
   "id": "150c7784",
   "metadata": {},
   "outputs": [
    {
     "name": "stdout",
     "output_type": "stream",
     "text": [
      "10\n",
      "20\n"
     ]
    }
   ],
   "source": [
    "def ab(a,b):\n",
    "    print(a)\n",
    "    print(b)\n",
    "x = 10\n",
    "y = 20\n",
    "display(x)\n",
    "display(y)"
   ]
  },
  {
   "cell_type": "code",
   "execution_count": 35,
   "id": "a3f5e58e",
   "metadata": {},
   "outputs": [
    {
     "name": "stdout",
     "output_type": "stream",
     "text": [
      "300\n"
     ]
    }
   ],
   "source": [
    "def ab(a,b):\n",
    "    print(a+b)\n",
    "a = 100\n",
    "b = 200\n",
    "ab(a,b)\n"
   ]
  },
  {
   "cell_type": "code",
   "execution_count": 36,
   "id": "1704a16f",
   "metadata": {},
   "outputs": [
    {
     "name": "stdout",
     "output_type": "stream",
     "text": [
      "200\n"
     ]
    }
   ],
   "source": [
    "def mul(a,b):\n",
    "    res = a*b\n",
    "    return res\n",
    "x = 10\n",
    "y = 20\n",
    "r = mul(x,y)\n",
    "print(r)"
   ]
  },
  {
   "cell_type": "code",
   "execution_count": 37,
   "id": "86c6b375",
   "metadata": {},
   "outputs": [
    {
     "name": "stdout",
     "output_type": "stream",
     "text": [
      "('a', 'b', 'c', 'e', 'd', 'f')\n",
      "a\n",
      "b\n",
      "c\n",
      "e\n",
      "d\n",
      "f\n"
     ]
    }
   ],
   "source": [
    "def ab(*letter):\n",
    "    print(letter)\n",
    "    for i in letter:\n",
    "        print(i)\n",
    "ab('a','b','c','e','d','f')        \n",
    "        "
   ]
  },
  {
   "cell_type": "code",
   "execution_count": null,
   "id": "2cbac496",
   "metadata": {},
   "outputs": [],
   "source": [
    "# lambda function \n",
    "# lambda function is one line function \n",
    "# lambda function  is small and ananmous function\n",
    "# lambda function can take any number of arguments and parameter"
   ]
  },
  {
   "cell_type": "code",
   "execution_count": 40,
   "id": "f13565a2",
   "metadata": {},
   "outputs": [
    {
     "data": {
      "text/plain": [
       "55"
      ]
     },
     "execution_count": 40,
     "metadata": {},
     "output_type": "execute_result"
    }
   ],
   "source": [
    "a =  lambda a,b: a+b\n",
    "a(10,45)"
   ]
  },
  {
   "cell_type": "code",
   "execution_count": 41,
   "id": "ccc035d4",
   "metadata": {},
   "outputs": [
    {
     "data": {
      "text/plain": [
       "31944"
      ]
     },
     "execution_count": 41,
     "metadata": {},
     "output_type": "execute_result"
    }
   ],
   "source": [
    "a = lambda a,b,c:a*b*c\n",
    "a(22,33,44)"
   ]
  },
  {
   "cell_type": "code",
   "execution_count": 42,
   "id": "979c377f",
   "metadata": {},
   "outputs": [
    {
     "name": "stdout",
     "output_type": "stream",
     "text": [
      "100\n"
     ]
    },
    {
     "data": {
      "text/plain": [
       "2000"
      ]
     },
     "execution_count": 42,
     "metadata": {},
     "output_type": "execute_result"
    }
   ],
   "source": [
    "def myfun(n):\n",
    "    print(n)\n",
    "    return(lambda a:a*b)\n",
    "fun = myfun(100)\n",
    "fun(10)"
   ]
  },
  {
   "cell_type": "code",
   "execution_count": 44,
   "id": "49732e1a",
   "metadata": {},
   "outputs": [
    {
     "name": "stdout",
     "output_type": "stream",
     "text": [
      "10\n"
     ]
    },
    {
     "data": {
      "text/plain": [
       "20000"
      ]
     },
     "execution_count": 44,
     "metadata": {},
     "output_type": "execute_result"
    }
   ],
   "source": [
    "def fun(a):\n",
    "    print(a)\n",
    "    return(lambda a:a*b)\n",
    "myfun = fun(10)\n",
    "myfun(100)"
   ]
  },
  {
   "cell_type": "code",
   "execution_count": 1,
   "id": "e9e8a28b",
   "metadata": {},
   "outputs": [],
   "source": [
    "# class \n",
    "# in python class is blueprint for creating objects and object is an instance of a class"
   ]
  },
  {
   "cell_type": "code",
   "execution_count": 2,
   "id": "c1a03a2a",
   "metadata": {},
   "outputs": [
    {
     "name": "stdout",
     "output_type": "stream",
     "text": [
      "lili\n"
     ]
    }
   ],
   "source": [
    "class ab:\n",
    "    name = 'lili'\n",
    "a = ab()\n",
    "print(a.name)"
   ]
  },
  {
   "cell_type": "code",
   "execution_count": 3,
   "id": "fdc926ec",
   "metadata": {},
   "outputs": [
    {
     "name": "stdout",
     "output_type": "stream",
     "text": [
      "tes\n",
      "cs\n"
     ]
    }
   ],
   "source": [
    "class stud:\n",
    "    name = 'tes'\n",
    "    sub = 'cs'\n",
    "s = stud()\n",
    "print(s.name)\n",
    "print(s.sub)"
   ]
  },
  {
   "cell_type": "code",
   "execution_count": 4,
   "id": "392cebc8",
   "metadata": {},
   "outputs": [
    {
     "name": "stdout",
     "output_type": "stream",
     "text": [
      "lili\n",
      "cs\n",
      "9698786754\n"
     ]
    }
   ],
   "source": [
    "class em:\n",
    "    def __init__(self,name,sub,mob):\n",
    "        self.name = name\n",
    "        self.sub = sub\n",
    "        self.mob = mob\n",
    "e=em('lili','cs',9698786754)\n",
    "print(e.name)\n",
    "print(e.sub)\n",
    "print(e.mob)"
   ]
  },
  {
   "cell_type": "code",
   "execution_count": 5,
   "id": "11bee6f3",
   "metadata": {},
   "outputs": [
    {
     "name": "stdout",
     "output_type": "stream",
     "text": [
      "lili\n",
      "teso\n"
     ]
    }
   ],
   "source": [
    "class stud:\n",
    "    def __init__(self,fnm,lnm):\n",
    "        self.fname = fnm\n",
    "        self.lname = lnm\n",
    "    def display(self):\n",
    "        print(self.fname)\n",
    "        print(self.lname)\n",
    "s = stud('lili','teso')\n",
    "s.display()\n"
   ]
  },
  {
   "cell_type": "code",
   "execution_count": 8,
   "id": "4ec7a16b",
   "metadata": {},
   "outputs": [
    {
     "name": "stdout",
     "output_type": "stream",
     "text": [
      "tena\n",
      "tolo\n",
      "kuku\n",
      "tolo\n"
     ]
    }
   ],
   "source": [
    "class stud:\n",
    "    def __init__(self,fnm,lnm):\n",
    "        self.fname = fnm\n",
    "        self.lname = lnm\n",
    "    def display(self):\n",
    "        print(self.fname)\n",
    "        print(self.lname)\n",
    "    def change(self,fnm):\n",
    "        self.fname = fnm\n",
    "        self.display()\n",
    "s = stud('tena','tolo')\n",
    "s.display()\n",
    "s1 = 'kuku'\n",
    "s.change(s1)"
   ]
  },
  {
   "cell_type": "code",
   "execution_count": null,
   "id": "70cfe54b",
   "metadata": {},
   "outputs": [],
   "source": [
    "# inheritance\n",
    "# inheritance can define new class(child class) that takes an attributes and methods from an existing class(parent class). "
   ]
  },
  {
   "cell_type": "code",
   "execution_count": 9,
   "id": "35faa18a",
   "metadata": {},
   "outputs": [
    {
     "name": "stdout",
     "output_type": "stream",
     "text": [
      "lili\n",
      "tina\n"
     ]
    }
   ],
   "source": [
    "class a:\n",
    "    def __init__(self,fnm,lnm):\n",
    "        self.fname = fnm\n",
    "        self.lname = lnm\n",
    "    def display(self):\n",
    "        print(self.fname)\n",
    "        print(self.lname)\n",
    "class b(a):\n",
    "    pass\n",
    "ab = a('lili','tina')\n",
    "ab.display()\n",
    "        "
   ]
  },
  {
   "cell_type": "code",
   "execution_count": 12,
   "id": "d53c082a",
   "metadata": {},
   "outputs": [
    {
     "name": "stdout",
     "output_type": "stream",
     "text": [
      "lili\n",
      "cs\n",
      "23\n",
      "9878675643\n"
     ]
    }
   ],
   "source": [
    "class employ:\n",
    "    def __init__(self,sub,fnm,rn):\n",
    "        self.sub = sub\n",
    "        self.fnm = fnm\n",
    "        self.rn = rn\n",
    "    def display(self):\n",
    "        print(self.sub)\n",
    "        print(self.fnm)\n",
    "        print(self.rn)\n",
    "class stud(employ):\n",
    "    def __init__(self,sub,fnm,rn,mob):\n",
    "        employ.__init__(self,sub,fnm,rn)\n",
    "        self.mob = mob\n",
    "    def display(self):\n",
    "        print(self.sub)\n",
    "        print(self.fnm)\n",
    "        print(self.rn)\n",
    "        print(self.mob)\n",
    "s = stud('lili','cs',23,9878675643)\n",
    "s.display()\n",
    "        \n",
    "        \n",
    "        "
   ]
  },
  {
   "cell_type": "code",
   "execution_count": null,
   "id": "02f92115",
   "metadata": {},
   "outputs": [],
   "source": [
    "# itertor \n",
    "# itertor are used to traverse the iterables like list, tuple, set, dict,and string\n",
    "# itertor has countable number of values\n",
    "# it has two methods next method and iter methods next methods used to next elements and iter method is used access elements one by one and traverse through a \n",
    "# sequence like list,tuple,string,set,dict"
   ]
  },
  {
   "cell_type": "code",
   "execution_count": 13,
   "id": "1c0294fc",
   "metadata": {},
   "outputs": [
    {
     "name": "stdout",
     "output_type": "stream",
     "text": [
      "<class 'list'>\n",
      "1\n",
      "2\n",
      "3\n",
      "4\n",
      "5\n"
     ]
    }
   ],
   "source": [
    "a = [1,2,3,4,5]\n",
    "print(type(a))\n",
    "itr = iter(a)\n",
    "print(next(itr))\n",
    "print(next(itr))\n",
    "for i in itr:\n",
    "    print(i)"
   ]
  },
  {
   "cell_type": "code",
   "execution_count": 15,
   "id": "48f226cb",
   "metadata": {},
   "outputs": [
    {
     "name": "stdout",
     "output_type": "stream",
     "text": [
      "{33, 11, 44, 22}\n",
      "<class 'set'>\n",
      "33\n",
      "11\n",
      "hello world\n",
      "<class 'str'>\n",
      "h\n",
      "e\n"
     ]
    }
   ],
   "source": [
    "a = {11,22,33,44}\n",
    "print(a)\n",
    "print(type(a))\n",
    "itr = iter(a)\n",
    "print(next(itr))\n",
    "print(next(itr))\n",
    "ab = 'hello world'\n",
    "print(ab)\n",
    "print(type(ab))\n",
    "itr = iter(ab)\n",
    "print(next(itr))\n",
    "print(next(itr))"
   ]
  },
  {
   "cell_type": "code",
   "execution_count": 16,
   "id": "101d4c40",
   "metadata": {},
   "outputs": [
    {
     "name": "stdout",
     "output_type": "stream",
     "text": [
      "{'a': 10, 'b': 20, 'c': 30, 'd': 40}\n",
      "<class 'dict'>\n",
      "a\n",
      "b\n"
     ]
    }
   ],
   "source": [
    "a = {'a':10,\n",
    "     'b': 20,\n",
    "    'c': 30,\n",
    "    'd':40}\n",
    "print(a)\n",
    "print(type(a))\n",
    "itr = iter(a)\n",
    "print(next(itr))\n",
    "print(next(itr))"
   ]
  },
  {
   "cell_type": "code",
   "execution_count": 1,
   "id": "c546a477",
   "metadata": {},
   "outputs": [
    {
     "name": "stdout",
     "output_type": "stream",
     "text": [
      "1\n",
      "2\n",
      "3\n",
      "4\n",
      "5\n",
      "6\n",
      "7\n",
      "8\n",
      "9\n",
      "10\n",
      "11\n",
      "12\n",
      "13\n",
      "14\n",
      "15\n",
      "16\n",
      "17\n",
      "18\n",
      "19\n"
     ]
    }
   ],
   "source": [
    "class counter:\n",
    "    def __iter__(self):\n",
    "        self.a =1\n",
    "        return self\n",
    "    def __next__(self):\n",
    "        b = self.a\n",
    "        self.a+=1\n",
    "        if b==20:\n",
    "            raise StopIteration\n",
    "        return b\n",
    "count = counter()\n",
    "itr = iter(count)\n",
    "for b in itr:\n",
    "    print(b)"
   ]
  },
  {
   "cell_type": "code",
   "execution_count": 2,
   "id": "e5b22569",
   "metadata": {},
   "outputs": [
    {
     "name": "stdout",
     "output_type": "stream",
     "text": [
      "1\n",
      "2\n",
      "3\n",
      "4\n",
      "5\n",
      "6\n",
      "7\n",
      "8\n",
      "9\n",
      "10\n",
      "11\n",
      "12\n",
      "13\n",
      "14\n",
      "15\n",
      "16\n",
      "17\n",
      "18\n",
      "19\n",
      "20\n"
     ]
    }
   ],
   "source": [
    "class abc:\n",
    "    def __iter__(self):\n",
    "        self.a =1\n",
    "        return self\n",
    "    def __next__(self):\n",
    "        b = self.a\n",
    "        self.a+=1\n",
    "        if b==21:\n",
    "            raise StopIteration\n",
    "        return b\n",
    "a = abc()\n",
    "itr = iter(a)\n",
    "for b in itr:\n",
    "    print(b)\n",
    "        "
   ]
  },
  {
   "cell_type": "code",
   "execution_count": null,
   "id": "821c13b7",
   "metadata": {},
   "outputs": [],
   "source": [
    "# scope of variable \n",
    "# scope means access variable\n",
    "# local scope (inside a funtion)- variables defined inside a function and accessible only within that function \n",
    "# global scope(outside a function) - variables defined outside a function and accessible from anywhere in the code."
   ]
  },
  {
   "cell_type": "code",
   "execution_count": 4,
   "id": "80b0b8b7",
   "metadata": {},
   "outputs": [
    {
     "name": "stdout",
     "output_type": "stream",
     "text": [
      "10\n"
     ]
    },
    {
     "data": {
      "text/plain": [
       "30"
      ]
     },
     "execution_count": 4,
     "metadata": {},
     "output_type": "execute_result"
    }
   ],
   "source": [
    "def add():\n",
    "    a = 10\n",
    "    b = 20\n",
    "    print(a)\n",
    "    return a+b\n",
    "add()\n",
    "\n",
    "    \n"
   ]
  },
  {
   "cell_type": "code",
   "execution_count": 5,
   "id": "8d4822a8",
   "metadata": {},
   "outputs": [
    {
     "name": "stdout",
     "output_type": "stream",
     "text": [
      "10\n",
      "20\n",
      "100\n",
      "200\n"
     ]
    }
   ],
   "source": [
    "a = 100\n",
    "b = 200\n",
    "def add():\n",
    "    a = 10\n",
    "    b = 20\n",
    "    print(a)\n",
    "    print(b)\n",
    "    return a+b\n",
    "add()\n",
    "print(a)\n",
    "print(b)\n"
   ]
  },
  {
   "cell_type": "code",
   "execution_count": 6,
   "id": "6371020b",
   "metadata": {},
   "outputs": [
    {
     "name": "stdout",
     "output_type": "stream",
     "text": [
      "230\n",
      "345\n",
      "234\n",
      "123\n"
     ]
    }
   ],
   "source": [
    "a = 234\n",
    "b = 123\n",
    "def mul():\n",
    "    a = 230\n",
    "    b = 345\n",
    "    print(a)\n",
    "    print(b)\n",
    "    return a*b\n",
    "mul()\n",
    "print(a)\n",
    "print(b)"
   ]
  },
  {
   "cell_type": "code",
   "execution_count": null,
   "id": "e6258592",
   "metadata": {},
   "outputs": [],
   "source": [
    "# modules \n",
    "# modules is a set of functions which is used to devlop an application"
   ]
  },
  {
   "cell_type": "code",
   "execution_count": null,
   "id": "d440e832",
   "metadata": {},
   "outputs": [],
   "source": [
    "# datetime \n",
    "# datetime is combination between date and times"
   ]
  },
  {
   "cell_type": "code",
   "execution_count": 10,
   "id": "dd909a41",
   "metadata": {},
   "outputs": [
    {
     "name": "stdout",
     "output_type": "stream",
     "text": [
      "1\n",
      "9999\n",
      "2024\n",
      "11\n",
      "11\n"
     ]
    }
   ],
   "source": [
    "import datetime\n",
    "print(datetime.MINYEAR)\n",
    "print(datetime.MAXYEAR)\n",
    "a = datetime.datetime.now()\n",
    "print(a.year)\n",
    "print(a.month)\n",
    "print(a.day)"
   ]
  },
  {
   "cell_type": "code",
   "execution_count": 19,
   "id": "024f10b9",
   "metadata": {},
   "outputs": [
    {
     "name": "stdout",
     "output_type": "stream",
     "text": [
      "Monday\n",
      "11/11/24\n",
      "18\n",
      "2024\n",
      "24\n",
      "11\n",
      "Mon\n",
      "11\n"
     ]
    }
   ],
   "source": [
    "a = datetime.datetime.now()\n",
    "print(a.strftime(\"%A\"))\n",
    "print(a.strftime(\"%D\"))\n",
    "print(a.strftime(\"%H\"))\n",
    "print(a.strftime(\"%Y\"))\n",
    "print(a.strftime(\"%y\"))\n",
    "print(a.strftime(\"%M\"))\n",
    "print(a.strftime(\"%a\"))\n",
    "print(a.strftime(\"%d\"))"
   ]
  },
  {
   "cell_type": "code",
   "execution_count": 27,
   "id": "aa5d42f6",
   "metadata": {},
   "outputs": [
    {
     "name": "stdout",
     "output_type": "stream",
     "text": [
      "Nov\n",
      "1\n",
      "\n"
     ]
    }
   ],
   "source": [
    "a = datetime.datetime.now()\n",
    "print(a.strftime(\"%b\"))\n",
    "print(a.strftime('%w'))\n",
    "print(a.strftime('%Z'))"
   ]
  },
  {
   "cell_type": "code",
   "execution_count": null,
   "id": "4b8fb51e",
   "metadata": {},
   "outputs": [],
   "source": [
    "# math function\n",
    "# math module is a python module\n",
    "# provides standard mathamatical constants and functions \n",
    "# math functions using minimum, maximum, absolute "
   ]
  },
  {
   "cell_type": "code",
   "execution_count": 32,
   "id": "10409d8f",
   "metadata": {},
   "outputs": [
    {
     "name": "stdout",
     "output_type": "stream",
     "text": [
      "3\n",
      "445.6\n",
      "12\n",
      "12\n",
      "8000\n",
      "1686221298140625\n"
     ]
    }
   ],
   "source": [
    "a = min(12,3,4,5)\n",
    "print(a)\n",
    "b = max(122,445.6,5)\n",
    "print(b)\n",
    "c = abs(12)\n",
    "print(c)\n",
    "d = abs(-12)\n",
    "print(d)\n",
    "e = pow(20,3)\n",
    "print(e)\n",
    "f = pow(345,6)\n",
    "print(f)\n"
   ]
  },
  {
   "cell_type": "code",
   "execution_count": 33,
   "id": "a7afc6d9",
   "metadata": {},
   "outputs": [],
   "source": [
    "import math as m"
   ]
  },
  {
   "cell_type": "code",
   "execution_count": 36,
   "id": "fd103cbd",
   "metadata": {},
   "outputs": [
    {
     "name": "stdout",
     "output_type": "stream",
     "text": [
      "4.795831523312719\n",
      "123\n",
      "124\n"
     ]
    }
   ],
   "source": [
    "a = m.sqrt(23)\n",
    "print(a)\n",
    "b = m.floor(123.456)\n",
    "print(b)\n",
    "c = m.ceil(123.43)\n",
    "print(c)"
   ]
  },
  {
   "cell_type": "code",
   "execution_count": 39,
   "id": "a58da213",
   "metadata": {},
   "outputs": [
    {
     "name": "stdout",
     "output_type": "stream",
     "text": [
      "2.718281828459045\n",
      "3.141592653589793\n",
      "nan\n"
     ]
    }
   ],
   "source": [
    "e_no = m.e\n",
    "print(e_no)\n",
    "f = m.pi\n",
    "print(f)\n",
    "g = m.nan\n",
    "print(g)"
   ]
  },
  {
   "cell_type": "code",
   "execution_count": null,
   "id": "311cc134",
   "metadata": {},
   "outputs": [],
   "source": [
    "# json\n",
    "#json means java script object notation \n",
    "# json is a string text format\n",
    "#json is language indepedent\n",
    "# json is lightweight data interchange format\n",
    "# json is self describing and easy to understand"
   ]
  },
  {
   "cell_type": "code",
   "execution_count": 40,
   "id": "de306bda",
   "metadata": {},
   "outputs": [],
   "source": [
    "import json"
   ]
  },
  {
   "cell_type": "code",
   "execution_count": 42,
   "id": "c38202d2",
   "metadata": {},
   "outputs": [
    {
     "name": "stdout",
     "output_type": "stream",
     "text": [
      "<class 'dict'>\n",
      "{\"name\": \"lili\", \"sub\": \"cs\", \"sal\": 50000}\n"
     ]
    }
   ],
   "source": [
    "e ={\n",
    "    'name':'lili',\n",
    "    'sub': 'cs',\n",
    "    'sal': 50000\n",
    "    } \n",
    "print(type(e))\n",
    "a = json.dumps(e)\n",
    "print(a)"
   ]
  },
  {
   "cell_type": "code",
   "execution_count": 43,
   "id": "941580dd",
   "metadata": {},
   "outputs": [
    {
     "name": "stdout",
     "output_type": "stream",
     "text": [
      "<class 'tuple'>\n",
      "[10, 20, \"lili\", 34]\n"
     ]
    }
   ],
   "source": [
    "a = (10,20,'lili',34)\n",
    "print(type(a))\n",
    "b = json.dumps(a)\n",
    "print(b)\n"
   ]
  },
  {
   "cell_type": "code",
   "execution_count": 44,
   "id": "bc7408e7",
   "metadata": {},
   "outputs": [
    {
     "name": "stdout",
     "output_type": "stream",
     "text": [
      "<class 'str'>\n",
      "{'name': 'lili', 'city': 'delhi', 'lname': 'teins'}\n",
      "<class 'dict'>\n"
     ]
    }
   ],
   "source": [
    "a = '{\"name\":\"lili\",\"city\":\"delhi\",\"lname\":\"teins\"}'\n",
    "print(type(a))\n",
    "b = json.loads(a)\n",
    "print(b)\n",
    "print(type(b))"
   ]
  },
  {
   "cell_type": "code",
   "execution_count": 52,
   "id": "be1a5ce3",
   "metadata": {},
   "outputs": [
    {
     "name": "stdout",
     "output_type": "stream",
     "text": [
      "{\n",
      "    \"name\": \"lili\",\n",
      "    \"age\": 21,\n",
      "    \"veg\": true,\n",
      "    \"food\": null,\n",
      "    \"cars\": [\n",
      "        {\n",
      "            \"model\": \"BTM\",\n",
      "            \"mpg\": 27.5\n",
      "        },\n",
      "        {\n",
      "            \"model\": \"tata\",\n",
      "            \"mpg\": 21.1\n",
      "        }\n",
      "    ]\n",
      "}\n",
      "{\n",
      "    \"name\"=\"lili\"-\n",
      "    \"age\"=21-\n",
      "    \"veg\"=true-\n",
      "    \"food\"=null-\n",
      "    \"cars\"=[\n",
      "        {\n",
      "            \"model\"=\"BTM\"-\n",
      "            \"mpg\"=27.5\n",
      "        }-\n",
      "        {\n",
      "            \"model\"=\"tata\"-\n",
      "            \"mpg\"=21.1\n",
      "        }\n",
      "    ]\n",
      "}\n",
      "{\n",
      "    \"age\"=21-\n",
      "    \"cars\"=[\n",
      "        {\n",
      "            \"model\"=\"BTM\"-\n",
      "            \"mpg\"=27.5\n",
      "        }-\n",
      "        {\n",
      "            \"model\"=\"tata\"-\n",
      "            \"mpg\"=21.1\n",
      "        }\n",
      "    ]-\n",
      "    \"food\"=null-\n",
      "    \"name\"=\"lili\"-\n",
      "    \"veg\"=true\n",
      "}\n"
     ]
    }
   ],
   "source": [
    "a = {\n",
    "    'name':'lili',\n",
    "    'age': 21,\n",
    "    'veg': True,\n",
    "    'food': None,\n",
    "    'cars': [\n",
    "        {'model': 'BTM','mpg': 27.5},\n",
    "        {'model': 'tata','mpg':21.1},\n",
    "    ]\n",
    "\n",
    "}\n",
    "print(json.dumps(a,indent=4))\n",
    "print(json.dumps(a,indent =4,separators=('-','=')))\n",
    "print(json.dumps(a,indent =4,separators=('-','='),sort_keys=True))"
   ]
  },
  {
   "cell_type": "code",
   "execution_count": 47,
   "id": "ac103883",
   "metadata": {},
   "outputs": [
    {
     "name": "stdout",
     "output_type": "stream",
     "text": [
      "[{'color': 'red', 'size': 30}, {'color': 'black', 'size': 25}, {'color': 'white', 'size': 26}]\n",
      "[\n",
      "    {\n",
      "        \"color\": \"red\",\n",
      "        \"size\": 30\n",
      "    },\n",
      "    {\n",
      "        \"color\": \"black\",\n",
      "        \"size\": 25\n",
      "    },\n",
      "    {\n",
      "        \"color\": \"white\",\n",
      "        \"size\": 26\n",
      "    }\n",
      "]\n",
      "[\n",
      "    {\n",
      "        \"color\"=\"red\"-\n",
      "        \"size\"=30\n",
      "    }-\n",
      "    {\n",
      "        \"color\"=\"black\"-\n",
      "        \"size\"=25\n",
      "    }-\n",
      "    {\n",
      "        \"color\"=\"white\"-\n",
      "        \"size\"=26\n",
      "    }\n",
      "]\n",
      "[\n",
      "    {\n",
      "        \"color\"=\"red\"-\n",
      "        \"size\"=30\n",
      "    }-\n",
      "    {\n",
      "        \"color\"=\"black\"-\n",
      "        \"size\"=25\n",
      "    }-\n",
      "    {\n",
      "        \"color\"=\"white\"-\n",
      "        \"size\"=26\n",
      "    }\n",
      "]\n"
     ]
    }
   ],
   "source": [
    "a = {\n",
    "    'name': 'mili',\n",
    "    'lname': 'titi',\n",
    "    'age': 24,\n",
    "    'food': False,\n",
    "    'salary': 50000,\n",
    "    'rainbow':[\n",
    "        {'color':'red','size': 30},\n",
    "        {'color': 'black','size' :25},\n",
    "        {'color': 'white', 'size' :26},\n",
    "    ]\n",
    "}\n",
    "b = a['rainbow']\n",
    "print(b)\n",
    "print(json.dumps(b, indent =4))\n",
    "print(json.dumps(b, indent = 4, separators = (\"-\",\"=\")))\n",
    "print(json.dumps(b, indent = 4, separators = (\"-\",\"=\"),sort_keys = True))"
   ]
  },
  {
   "cell_type": "code",
   "execution_count": null,
   "id": "31e88183",
   "metadata": {},
   "outputs": [],
   "source": [
    "# regular expression\n",
    "# re module means regulare expressions\n",
    "# re module to find the pattern or string\n",
    "# regex is a powerful tool for text processing,mastering."
   ]
  },
  {
   "cell_type": "code",
   "execution_count": 57,
   "id": "8af8c6c0",
   "metadata": {},
   "outputs": [
    {
     "name": "stdout",
     "output_type": "stream",
     "text": [
      "match\n",
      "0\n",
      "(0, 36)\n",
      "36\n",
      "hello i am lili and i am 23 year old\n",
      "hello i am lili and i am 23 year old\n"
     ]
    }
   ],
   "source": [
    "import re\n",
    "a = 'hello i am lili and i am 23 year old'\n",
    "b = re.search('hello.*old$',a)\n",
    "if b:\n",
    "    print('match')\n",
    "else:\n",
    "    print('no match')\n",
    "print(b.start())\n",
    "print(b.span())\n",
    "print(b.end())\n",
    "print(b.string)\n",
    "print(b.group())"
   ]
  },
  {
   "cell_type": "code",
   "execution_count": 70,
   "id": "e4f8a8f3",
   "metadata": {},
   "outputs": [
    {
     "name": "stdout",
     "output_type": "stream",
     "text": [
      "['r']\n",
      "None\n",
      "['hey', 'good', 'morning and i am going to cafe']\n",
      "['hey', 'good', 'morning', 'and i am going to cafe']\n",
      "hey==good==morning and i am going to cafe\n",
      "hey**good**morning**and i am going to cafe\n"
     ]
    }
   ],
   "source": [
    "ab = 'hey good morning and i am going to cafe'\n",
    "a = re.findall('r',ab)\n",
    "print(a)\n",
    "a = re.search('/hey',ab)\n",
    "print(a)\n",
    "a = re.split('\\s',ab,2)\n",
    "print(a)\n",
    "a = re.split('\\s',ab,3)\n",
    "print(a)\n",
    "a = re.sub('\\s','==',ab,2)\n",
    "print(a)\n",
    "a = re.sub('\\s','**',ab,3)\n",
    "print(a)"
   ]
  },
  {
   "cell_type": "code",
   "execution_count": 71,
   "id": "9d0d1fbd",
   "metadata": {},
   "outputs": [
    {
     "name": "stdout",
     "output_type": "stream",
     "text": [
      "<re.Match object; span=(0, 14), match='hello world le'>\n",
      "match\n",
      "(0, 14)\n",
      "0\n",
      "14\n",
      "hello world le\n",
      "hello world le\n"
     ]
    }
   ],
   "source": [
    "a = 'hello world le'\n",
    "b = re.search('hello.*le$',a)\n",
    "print(b)\n",
    "if b:\n",
    "    print('match')\n",
    "else:\n",
    "    print('no match')\n",
    "print(b.span())\n",
    "print(b.start())\n",
    "print(b.end())\n",
    "print(b.string)\n",
    "print(b.group())"
   ]
  },
  {
   "cell_type": "code",
   "execution_count": null,
   "id": "4cc8ee34",
   "metadata": {},
   "outputs": [],
   "source": [
    "# exception handling \n",
    "# Exception handling is a powerful way to catch and manage errors in Python,\n",
    "# allowing you to create programs that are more reliable and user-friendly.\n",
    "# Exception handling helps manage errors in your code without crashing the whole program.\n",
    "# Try - code block where exceptions might occur.\n",
    "# except - code block that handlies exceptions.\n",
    "# finally - code block executes regardless of exceptions.\n",
    "# raise - manually raise an exception.\n",
    "# else - code block executes if no exception occurs.\n"
   ]
  },
  {
   "cell_type": "code",
   "execution_count": 73,
   "id": "75e1b57d",
   "metadata": {},
   "outputs": [
    {
     "name": "stdout",
     "output_type": "stream",
     "text": [
      "enter the number12\n"
     ]
    }
   ],
   "source": [
    "while True:\n",
    "    try:\n",
    "        a = int(input('enter the number'))\n",
    "        break\n",
    "    except ValueError:\n",
    "            \n",
    "        print('no valid number')"
   ]
  },
  {
   "cell_type": "code",
   "execution_count": 74,
   "id": "f2c1f723",
   "metadata": {},
   "outputs": [
    {
     "name": "stdout",
     "output_type": "stream",
     "text": [
      "10\n"
     ]
    }
   ],
   "source": [
    "a = 10\n",
    "try:\n",
    "    print(a)\n",
    "except NameError:\n",
    "    print('variable')\n",
    "except:\n",
    "    print('some error')\n",
    "    "
   ]
  },
  {
   "cell_type": "code",
   "execution_count": 75,
   "id": "d32fc5f8",
   "metadata": {},
   "outputs": [
    {
     "name": "stdout",
     "output_type": "stream",
     "text": [
      "hii\n",
      "no varible\n"
     ]
    }
   ],
   "source": [
    "try:\n",
    "    print('hii')\n",
    "except:\n",
    "    print('variable')\n",
    "else:\n",
    "    print('no varible')"
   ]
  },
  {
   "cell_type": "code",
   "execution_count": 77,
   "id": "48a27572",
   "metadata": {},
   "outputs": [
    {
     "name": "stdout",
     "output_type": "stream",
     "text": [
      "4\n",
      "5\n",
      "match\n",
      "all right\n"
     ]
    }
   ],
   "source": [
    "try:\n",
    "    a = [2,3,4,5]\n",
    "    for i in a:\n",
    "        print(a[i])\n",
    "except:\n",
    "    print('match')\n",
    "else:\n",
    "    print('no match')\n",
    "finally:\n",
    "    print('all right')"
   ]
  },
  {
   "cell_type": "code",
   "execution_count": 79,
   "id": "c35c43f0",
   "metadata": {},
   "outputs": [
    {
     "name": "stdout",
     "output_type": "stream",
     "text": [
      "somtime all right\n",
      "always okay\n"
     ]
    }
   ],
   "source": [
    "try:\n",
    "    print(h)\n",
    "except:\n",
    "    print('somtime all right')\n",
    "finally:\n",
    "    print('always okay')"
   ]
  },
  {
   "cell_type": "code",
   "execution_count": 80,
   "id": "b1414c3b",
   "metadata": {},
   "outputs": [
    {
     "name": "stdout",
     "output_type": "stream",
     "text": [
      "100\n",
      "finally ok\n"
     ]
    }
   ],
   "source": [
    "ab = 100\n",
    "try:\n",
    "    print(ab)\n",
    "except:\n",
    "    print('hello')\n",
    "finally:\n",
    "    print('finally ok')"
   ]
  },
  {
   "cell_type": "code",
   "execution_count": 81,
   "id": "ecc1500c",
   "metadata": {},
   "outputs": [
    {
     "ename": "Exception",
     "evalue": "sorry",
     "output_type": "error",
     "traceback": [
      "\u001b[1;31m---------------------------------------------------------------------------\u001b[0m",
      "\u001b[1;31mException\u001b[0m                                 Traceback (most recent call last)",
      "Cell \u001b[1;32mIn[81], line 3\u001b[0m\n\u001b[0;32m      1\u001b[0m a \u001b[38;5;241m=\u001b[39m \u001b[38;5;241m-\u001b[39m\u001b[38;5;241m1\u001b[39m\n\u001b[0;32m      2\u001b[0m \u001b[38;5;28;01mif\u001b[39;00m a\u001b[38;5;241m<\u001b[39m\u001b[38;5;241m0\u001b[39m:\n\u001b[1;32m----> 3\u001b[0m     \u001b[38;5;28;01mraise\u001b[39;00m \u001b[38;5;167;01mException\u001b[39;00m(\u001b[38;5;124m'\u001b[39m\u001b[38;5;124msorry\u001b[39m\u001b[38;5;124m'\u001b[39m)\n",
      "\u001b[1;31mException\u001b[0m: sorry"
     ]
    }
   ],
   "source": [
    "a = -1\n",
    "if a<0:\n",
    "    raise Exception('sorry')"
   ]
  },
  {
   "cell_type": "code",
   "execution_count": 83,
   "id": "1ebc23c0",
   "metadata": {},
   "outputs": [
    {
     "name": "stdout",
     "output_type": "stream",
     "text": [
      "hii\n",
      "finally\n"
     ]
    }
   ],
   "source": [
    "a = 'hii'\n",
    "try:\n",
    "    print(a)\n",
    "except:\n",
    "    print('sorry')\n",
    "finally:\n",
    "    print('finally')\n"
   ]
  },
  {
   "cell_type": "code",
   "execution_count": 84,
   "id": "df8e6792",
   "metadata": {},
   "outputs": [
    {
     "ename": "Exception",
     "evalue": "no match",
     "output_type": "error",
     "traceback": [
      "\u001b[1;31m---------------------------------------------------------------------------\u001b[0m",
      "\u001b[1;31mException\u001b[0m                                 Traceback (most recent call last)",
      "Cell \u001b[1;32mIn[84], line 2\u001b[0m\n\u001b[0;32m      1\u001b[0m a \u001b[38;5;241m=\u001b[39m \u001b[38;5;241m-\u001b[39m\u001b[38;5;241m1\u001b[39m\n\u001b[1;32m----> 2\u001b[0m \u001b[38;5;28;01mif\u001b[39;00m a\u001b[38;5;241m<\u001b[39m\u001b[38;5;241m0\u001b[39m: \u001b[38;5;28;01mraise\u001b[39;00m \u001b[38;5;167;01mException\u001b[39;00m(\u001b[38;5;124m'\u001b[39m\u001b[38;5;124mno match\u001b[39m\u001b[38;5;124m'\u001b[39m)\n",
      "\u001b[1;31mException\u001b[0m: no match"
     ]
    }
   ],
   "source": [
    "a = -1\n",
    "if a<0: raise Exception('no match')\n",
    "    "
   ]
  },
  {
   "cell_type": "code",
   "execution_count": 85,
   "id": "ba2f0256",
   "metadata": {},
   "outputs": [
    {
     "ename": "TypeError",
     "evalue": "ohh no match",
     "output_type": "error",
     "traceback": [
      "\u001b[1;31m---------------------------------------------------------------------------\u001b[0m",
      "\u001b[1;31mTypeError\u001b[0m                                 Traceback (most recent call last)",
      "Cell \u001b[1;32mIn[85], line 2\u001b[0m\n\u001b[0;32m      1\u001b[0m a \u001b[38;5;241m=\u001b[39m\u001b[38;5;241m-\u001b[39m\u001b[38;5;241m10\u001b[39m\n\u001b[1;32m----> 2\u001b[0m \u001b[38;5;28;01mif\u001b[39;00m a\u001b[38;5;241m<\u001b[39m\u001b[38;5;241m0\u001b[39m: \u001b[38;5;28;01mraise\u001b[39;00m \u001b[38;5;167;01mTypeError\u001b[39;00m(\u001b[38;5;124m'\u001b[39m\u001b[38;5;124mohh no match\u001b[39m\u001b[38;5;124m'\u001b[39m)\n",
      "\u001b[1;31mTypeError\u001b[0m: ohh no match"
     ]
    }
   ],
   "source": [
    "a =-10\n",
    "if a<0: raise TypeError('ohh no match')"
   ]
  },
  {
   "cell_type": "code",
   "execution_count": null,
   "id": "1f1569bc",
   "metadata": {},
   "outputs": [],
   "source": [
    "# string formatting\n",
    "# we have format method .It is used in print statement"
   ]
  },
  {
   "cell_type": "code",
   "execution_count": 92,
   "id": "07e82133",
   "metadata": {},
   "outputs": [
    {
     "name": "stdout",
     "output_type": "stream",
     "text": [
      "the value is 10\n",
      "the value is 10 and value is 20\n",
      "the value is 10.00 and value is 20\n"
     ]
    }
   ],
   "source": [
    "a = 10\n",
    "b = 'the value is {}'\n",
    "print(b.format(a))\n",
    "a = 10\n",
    "b = 20\n",
    "c = 'the value is {} and value is {}'\n",
    "print(c.format(a,b))\n",
    "x = 10\n",
    "y = 20\n",
    "z = 'the value is {:.2f} and value is {}'\n",
    "print(z.format(x,y))"
   ]
  },
  {
   "cell_type": "code",
   "execution_count": 93,
   "id": "9afbd28b",
   "metadata": {},
   "outputs": [
    {
     "name": "stdout",
     "output_type": "stream",
     "text": [
      "the ford is best and model is tata\n"
     ]
    }
   ],
   "source": [
    "brand = 'ford'\n",
    "model = 'tata'\n",
    "a = 'the {car} is best and model is {best}'\n",
    "print(a.format(car=brand,best=model))"
   ]
  },
  {
   "cell_type": "code",
   "execution_count": 94,
   "id": "320102ee",
   "metadata": {},
   "outputs": [],
   "source": [
    "# file handling\n",
    "# file handling is an important concept in python \n",
    "# file handling refers to the process of interacting eith files ,including creative files,\n",
    "# removing files,writing files,deleting files.\n",
    "# file handling is essential for data storage and exchange in python."
   ]
  },
  {
   "cell_type": "code",
   "execution_count": 97,
   "id": "38adaf30",
   "metadata": {},
   "outputs": [
    {
     "name": "stdout",
     "output_type": "stream",
     "text": [
      "hi \n",
      "hello python\n",
      "good morning\n",
      "my name is lilithis is new addthis is new addhey come to dubaihey come to dubai\n",
      "\n"
     ]
    }
   ],
   "source": [
    "f = open('f1.txt','r')\n",
    "print(f.read())\n",
    "print(f.readline())"
   ]
  },
  {
   "cell_type": "code",
   "execution_count": 98,
   "id": "647fc1c8",
   "metadata": {},
   "outputs": [
    {
     "name": "stdout",
     "output_type": "stream",
     "text": [
      "\n"
     ]
    }
   ],
   "source": [
    "f = open('f2.txt','r')\n",
    "print(f.read())"
   ]
  },
  {
   "cell_type": "code",
   "execution_count": 99,
   "id": "3cff00c7",
   "metadata": {},
   "outputs": [
    {
     "name": "stdout",
     "output_type": "stream",
     "text": [
      "\n",
      "\n",
      "\n"
     ]
    }
   ],
   "source": [
    "d = open('f4.txt','r')\n",
    "print(d.readline())\n",
    "print(d.readline())\n",
    "print(d.readline())"
   ]
  },
  {
   "cell_type": "code",
   "execution_count": 100,
   "id": "5655b6ec",
   "metadata": {},
   "outputs": [],
   "source": [
    "f =open('f1.txt','a')\n",
    "g = 'this is a new added'\n",
    "f.write(g)\n",
    "f.close()"
   ]
  },
  {
   "cell_type": "code",
   "execution_count": 101,
   "id": "1f38e7ab",
   "metadata": {},
   "outputs": [
    {
     "name": "stdout",
     "output_type": "stream",
     "text": [
      "\n",
      "\n",
      "\n"
     ]
    }
   ],
   "source": [
    "d = open('f4.txt','r')\n",
    "print(d.readline())\n",
    "print(d.readline())\n",
    "print(d.readline())"
   ]
  },
  {
   "cell_type": "code",
   "execution_count": 102,
   "id": "257fb4f5",
   "metadata": {},
   "outputs": [
    {
     "name": "stdout",
     "output_type": "stream",
     "text": [
      "\n"
     ]
    }
   ],
   "source": [
    "d= open('f4.txt','r')\n",
    "print(d.read())"
   ]
  },
  {
   "cell_type": "code",
   "execution_count": 104,
   "id": "43f75522",
   "metadata": {},
   "outputs": [
    {
     "name": "stdout",
     "output_type": "stream",
     "text": [
      "hi \n",
      "hello python\n",
      "good morning\n",
      "my name is lilithis is new addthis is new addhey come to dubaihey come to dubaithis is a new added\n"
     ]
    }
   ],
   "source": [
    "a  = open('f1.txt','r')\n",
    "print(a.read())"
   ]
  },
  {
   "cell_type": "code",
   "execution_count": 109,
   "id": "69dcc1a8",
   "metadata": {},
   "outputs": [
    {
     "ename": "FileExistsError",
     "evalue": "[Errno 17] File exists: 't.txt'",
     "output_type": "error",
     "traceback": [
      "\u001b[1;31m---------------------------------------------------------------------------\u001b[0m",
      "\u001b[1;31mFileExistsError\u001b[0m                           Traceback (most recent call last)",
      "Cell \u001b[1;32mIn[109], line 1\u001b[0m\n\u001b[1;32m----> 1\u001b[0m f \u001b[38;5;241m=\u001b[39m \u001b[38;5;28;43mopen\u001b[39;49m\u001b[43m(\u001b[49m\u001b[38;5;124;43m'\u001b[39;49m\u001b[38;5;124;43mt.txt\u001b[39;49m\u001b[38;5;124;43m'\u001b[39;49m\u001b[43m,\u001b[49m\u001b[38;5;124;43m'\u001b[39;49m\u001b[38;5;124;43mx\u001b[39;49m\u001b[38;5;124;43m'\u001b[39;49m\u001b[43m)\u001b[49m\n\u001b[0;32m      2\u001b[0m g \u001b[38;5;241m=\u001b[39m \u001b[38;5;28mopen\u001b[39m(\u001b[38;5;124m'\u001b[39m\u001b[38;5;124mt.txt\u001b[39m\u001b[38;5;124m'\u001b[39m,\u001b[38;5;124m'\u001b[39m\u001b[38;5;124mr\u001b[39m\u001b[38;5;124m'\u001b[39m)\n\u001b[0;32m      3\u001b[0m \u001b[38;5;28mprint\u001b[39m(g\u001b[38;5;241m.\u001b[39mread())\n",
      "File \u001b[1;32m~\\AppData\\Local\\Programs\\Python\\Python310\\lib\\site-packages\\IPython\\core\\interactiveshell.py:284\u001b[0m, in \u001b[0;36m_modified_open\u001b[1;34m(file, *args, **kwargs)\u001b[0m\n\u001b[0;32m    277\u001b[0m \u001b[38;5;28;01mif\u001b[39;00m file \u001b[38;5;129;01min\u001b[39;00m {\u001b[38;5;241m0\u001b[39m, \u001b[38;5;241m1\u001b[39m, \u001b[38;5;241m2\u001b[39m}:\n\u001b[0;32m    278\u001b[0m     \u001b[38;5;28;01mraise\u001b[39;00m \u001b[38;5;167;01mValueError\u001b[39;00m(\n\u001b[0;32m    279\u001b[0m         \u001b[38;5;124mf\u001b[39m\u001b[38;5;124m\"\u001b[39m\u001b[38;5;124mIPython won\u001b[39m\u001b[38;5;124m'\u001b[39m\u001b[38;5;124mt let you open fd=\u001b[39m\u001b[38;5;132;01m{\u001b[39;00mfile\u001b[38;5;132;01m}\u001b[39;00m\u001b[38;5;124m by default \u001b[39m\u001b[38;5;124m\"\u001b[39m\n\u001b[0;32m    280\u001b[0m         \u001b[38;5;124m\"\u001b[39m\u001b[38;5;124mas it is likely to crash IPython. If you know what you are doing, \u001b[39m\u001b[38;5;124m\"\u001b[39m\n\u001b[0;32m    281\u001b[0m         \u001b[38;5;124m\"\u001b[39m\u001b[38;5;124myou can use builtins\u001b[39m\u001b[38;5;124m'\u001b[39m\u001b[38;5;124m open.\u001b[39m\u001b[38;5;124m\"\u001b[39m\n\u001b[0;32m    282\u001b[0m     )\n\u001b[1;32m--> 284\u001b[0m \u001b[38;5;28;01mreturn\u001b[39;00m io_open(file, \u001b[38;5;241m*\u001b[39margs, \u001b[38;5;241m*\u001b[39m\u001b[38;5;241m*\u001b[39mkwargs)\n",
      "\u001b[1;31mFileExistsError\u001b[0m: [Errno 17] File exists: 't.txt'"
     ]
    }
   ],
   "source": [
    "f = open('t.txt','x')\n",
    "g = open('t.txt','r')\n",
    "print(g.read())"
   ]
  },
  {
   "cell_type": "code",
   "execution_count": 110,
   "id": "9e837cf5",
   "metadata": {},
   "outputs": [
    {
     "name": "stdout",
     "output_type": "stream",
     "text": [
      "hi \n",
      "hello python\n",
      "good morning\n",
      "my name is lilithis is new addthis is new addhey come to dubaihey come to dubaithis is a new added\n",
      "\n"
     ]
    }
   ],
   "source": [
    "f = open('f1.txt','r')\n",
    "print(f.read())\n",
    "print(f.readline())\n",
    "for i in f:\n",
    "    print(i)"
   ]
  },
  {
   "cell_type": "code",
   "execution_count": 113,
   "id": "6eefcd1a",
   "metadata": {},
   "outputs": [],
   "source": [
    "f = open('f1.txt','a')\n",
    "g = 'hello'\n",
    "f.write(g)\n",
    "f.close()"
   ]
  },
  {
   "cell_type": "code",
   "execution_count": 114,
   "id": "b4056d07",
   "metadata": {},
   "outputs": [
    {
     "ename": "FileExistsError",
     "evalue": "[Errno 17] File exists: 'f1.txt'",
     "output_type": "error",
     "traceback": [
      "\u001b[1;31m---------------------------------------------------------------------------\u001b[0m",
      "\u001b[1;31mFileExistsError\u001b[0m                           Traceback (most recent call last)",
      "Cell \u001b[1;32mIn[114], line 1\u001b[0m\n\u001b[1;32m----> 1\u001b[0m f \u001b[38;5;241m=\u001b[39m \u001b[38;5;28;43mopen\u001b[39;49m\u001b[43m(\u001b[49m\u001b[38;5;124;43m'\u001b[39;49m\u001b[38;5;124;43mf1.txt\u001b[39;49m\u001b[38;5;124;43m'\u001b[39;49m\u001b[43m,\u001b[49m\u001b[38;5;124;43m'\u001b[39;49m\u001b[38;5;124;43mx\u001b[39;49m\u001b[38;5;124;43m'\u001b[39;49m\u001b[43m)\u001b[49m\n\u001b[0;32m      2\u001b[0m g \u001b[38;5;241m=\u001b[39m \u001b[38;5;28mopen\u001b[39m(\u001b[38;5;124m'\u001b[39m\u001b[38;5;124mf1.txt\u001b[39m\u001b[38;5;124m'\u001b[39m,\u001b[38;5;124m'\u001b[39m\u001b[38;5;124mr\u001b[39m\u001b[38;5;124m'\u001b[39m)\n\u001b[0;32m      3\u001b[0m f\u001b[38;5;241m.\u001b[39mwrite(f)\n",
      "File \u001b[1;32m~\\AppData\\Local\\Programs\\Python\\Python310\\lib\\site-packages\\IPython\\core\\interactiveshell.py:284\u001b[0m, in \u001b[0;36m_modified_open\u001b[1;34m(file, *args, **kwargs)\u001b[0m\n\u001b[0;32m    277\u001b[0m \u001b[38;5;28;01mif\u001b[39;00m file \u001b[38;5;129;01min\u001b[39;00m {\u001b[38;5;241m0\u001b[39m, \u001b[38;5;241m1\u001b[39m, \u001b[38;5;241m2\u001b[39m}:\n\u001b[0;32m    278\u001b[0m     \u001b[38;5;28;01mraise\u001b[39;00m \u001b[38;5;167;01mValueError\u001b[39;00m(\n\u001b[0;32m    279\u001b[0m         \u001b[38;5;124mf\u001b[39m\u001b[38;5;124m\"\u001b[39m\u001b[38;5;124mIPython won\u001b[39m\u001b[38;5;124m'\u001b[39m\u001b[38;5;124mt let you open fd=\u001b[39m\u001b[38;5;132;01m{\u001b[39;00mfile\u001b[38;5;132;01m}\u001b[39;00m\u001b[38;5;124m by default \u001b[39m\u001b[38;5;124m\"\u001b[39m\n\u001b[0;32m    280\u001b[0m         \u001b[38;5;124m\"\u001b[39m\u001b[38;5;124mas it is likely to crash IPython. If you know what you are doing, \u001b[39m\u001b[38;5;124m\"\u001b[39m\n\u001b[0;32m    281\u001b[0m         \u001b[38;5;124m\"\u001b[39m\u001b[38;5;124myou can use builtins\u001b[39m\u001b[38;5;124m'\u001b[39m\u001b[38;5;124m open.\u001b[39m\u001b[38;5;124m\"\u001b[39m\n\u001b[0;32m    282\u001b[0m     )\n\u001b[1;32m--> 284\u001b[0m \u001b[38;5;28;01mreturn\u001b[39;00m io_open(file, \u001b[38;5;241m*\u001b[39margs, \u001b[38;5;241m*\u001b[39m\u001b[38;5;241m*\u001b[39mkwargs)\n",
      "\u001b[1;31mFileExistsError\u001b[0m: [Errno 17] File exists: 'f1.txt'"
     ]
    }
   ],
   "source": [
    "f = open('f1.txt','x')\n",
    "g = open('f1.txt','r')\n",
    "f.write(f)\n",
    "f.close()"
   ]
  },
  {
   "cell_type": "code",
   "execution_count": 115,
   "id": "508984a7",
   "metadata": {},
   "outputs": [
    {
     "name": "stdout",
     "output_type": "stream",
     "text": [
      "hi \n",
      "hello python\n",
      "good morning\n",
      "my name is lilithis is new addthis is new addhey come to dubaihey come to dubaithis is a new addedhellohello\n"
     ]
    }
   ],
   "source": [
    "import os\n",
    "f = open('f1.txt','r')\n",
    "print(f.read())\n"
   ]
  },
  {
   "cell_type": "code",
   "execution_count": 117,
   "id": "a5b68444",
   "metadata": {},
   "outputs": [],
   "source": [
    "# os.remove('f1.txt')"
   ]
  },
  {
   "cell_type": "code",
   "execution_count": null,
   "id": "4a5b3593",
   "metadata": {},
   "outputs": [],
   "source": []
  }
 ],
 "metadata": {
  "kernelspec": {
   "display_name": "Python 3 (ipykernel)",
   "language": "python",
   "name": "python3"
  },
  "language_info": {
   "codemirror_mode": {
    "name": "ipython",
    "version": 3
   },
   "file_extension": ".py",
   "mimetype": "text/x-python",
   "name": "python",
   "nbconvert_exporter": "python",
   "pygments_lexer": "ipython3",
   "version": "3.10.0"
  }
 },
 "nbformat": 4,
 "nbformat_minor": 5
}
